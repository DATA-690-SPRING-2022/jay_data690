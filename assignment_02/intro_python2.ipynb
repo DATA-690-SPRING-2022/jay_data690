{
  "nbformat": 4,
  "nbformat_minor": 0,
  "metadata": {
    "colab": {
      "name": "intro_python2.ipynb",
      "provenance": [],
      "authorship_tag": "ABX9TyNQBLH0fxBGSK63rU5dYavB",
      "include_colab_link": true
    },
    "kernelspec": {
      "name": "python3",
      "display_name": "Python 3"
    },
    "language_info": {
      "name": "python"
    }
  },
  "cells": [
    {
      "cell_type": "markdown",
      "metadata": {
        "id": "view-in-github",
        "colab_type": "text"
      },
      "source": [
        "<a href=\"https://colab.research.google.com/github/wcj365/jay_data690/blob/main/assignment_02/intro_python2.ipynb\" target=\"_parent\"><img src=\"https://colab.research.google.com/assets/colab-badge.svg\" alt=\"Open In Colab\"/></a>"
      ]
    },
    {
      "cell_type": "markdown",
      "source": [
        "# Introduction to Python - Part 2\n",
        "\n",
        "- Name: Jay WAng\n",
        "- Date: 2/8/2022"
      ],
      "metadata": {
        "id": "ggZ0eIjAAKpr"
      }
    },
    {
      "cell_type": "code",
      "execution_count": 1,
      "metadata": {
        "colab": {
          "base_uri": "https://localhost:8080/"
        },
        "id": "qR-Yg24gAHcp",
        "outputId": "50b33c70-563f-4303-c00b-a6c4b20d84fa"
      },
      "outputs": [
        {
          "name": "stdout",
          "output_type": "stream",
          "text": [
            "Please tell me your age:30\n"
          ]
        }
      ],
      "source": [
        "x = input(\"Please tell me your age:\")"
      ]
    },
    {
      "cell_type": "code",
      "source": [
        "print(\"Your age is\", x)"
      ],
      "metadata": {
        "colab": {
          "base_uri": "https://localhost:8080/"
        },
        "id": "ZwjDxudfAo2-",
        "outputId": "d151bd12-3284-487d-b7eb-9fcd0f0e5d5f"
      },
      "execution_count": 2,
      "outputs": [
        {
          "output_type": "stream",
          "name": "stdout",
          "text": [
            "Your age is 30\n"
          ]
        }
      ]
    },
    {
      "cell_type": "code",
      "source": [
        "type(x)"
      ],
      "metadata": {
        "colab": {
          "base_uri": "https://localhost:8080/"
        },
        "id": "CCtbUyI8A3nj",
        "outputId": "2399fef0-9584-4f08-c9ad-8afa83a751b2"
      },
      "execution_count": 3,
      "outputs": [
        {
          "output_type": "execute_result",
          "data": {
            "text/plain": [
              "str"
            ]
          },
          "metadata": {},
          "execution_count": 3
        }
      ]
    },
    {
      "cell_type": "code",
      "source": [
        "y = input(\"What is your age:\")"
      ],
      "metadata": {
        "colab": {
          "base_uri": "https://localhost:8080/"
        },
        "id": "cbCkVd2ZA_Rf",
        "outputId": "ba8d8b4e-c752-402f-e117-b657e46bab2d"
      },
      "execution_count": 10,
      "outputs": [
        {
          "name": "stdout",
          "output_type": "stream",
          "text": [
            "What is your age:one hundred\n"
          ]
        }
      ]
    },
    {
      "cell_type": "code",
      "source": [
        "type(y)"
      ],
      "metadata": {
        "colab": {
          "base_uri": "https://localhost:8080/"
        },
        "id": "qHD1KZ2MBFLz",
        "outputId": "d2fae183-a350-431b-850d-b6cdffc418ef"
      },
      "execution_count": 9,
      "outputs": [
        {
          "output_type": "execute_result",
          "data": {
            "text/plain": [
              "str"
            ]
          },
          "metadata": {},
          "execution_count": 9
        }
      ]
    },
    {
      "cell_type": "code",
      "source": [
        "x = input(\"your age:\")\n",
        "\n",
        "y = int(x)\n",
        "\n",
        "if y == 56:\n",
        "    print(\"You and I have the same age.\")\n",
        "elif y > 56:\n",
        "    print(\"You are older than me\")\n",
        "else:\n",
        "    print(\"You are younger than me\")\n"
      ],
      "metadata": {
        "colab": {
          "base_uri": "https://localhost:8080/"
        },
        "id": "Ly2opuuZB0VC",
        "outputId": "658fabd6-7bec-4ff1-c02b-30646e46fc5f"
      },
      "execution_count": 14,
      "outputs": [
        {
          "output_type": "stream",
          "name": "stdout",
          "text": [
            "your age:56\n",
            "You and I have the same age.\n"
          ]
        }
      ]
    },
    {
      "cell_type": "code",
      "source": [
        "while True:\n",
        "    x = input(\"your age:\")\n",
        "    try:\n",
        "        y = int(x)\n",
        "        break\n",
        "    except:\n",
        "        continue\n",
        "\n",
        "if y == 56:\n",
        "    print(\"You and I have the same age.\")\n",
        "elif y > 56:\n",
        "    print(\"You are older than me\")\n",
        "else:\n",
        "    print(\"You are younger than me\")"
      ],
      "metadata": {
        "colab": {
          "base_uri": "https://localhost:8080/"
        },
        "id": "n_PKgIfJDHOQ",
        "outputId": "06f87610-09b0-459e-c7fa-b31117980a64"
      },
      "execution_count": 15,
      "outputs": [
        {
          "output_type": "stream",
          "name": "stdout",
          "text": [
            "your age:jay\n",
            "your age:32424342werwererw\n",
            "your age:ten\n",
            "your age:10\n",
            "You are younger than me\n"
          ]
        }
      ]
    }
  ]
}