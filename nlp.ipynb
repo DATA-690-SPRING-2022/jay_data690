{
  "nbformat": 4,
  "nbformat_minor": 0,
  "metadata": {
    "colab": {
      "name": "Untitled52.ipynb",
      "provenance": [],
      "authorship_tag": "ABX9TyNqWoIERhLF0szmlEyuUPYc",
      "include_colab_link": true
    },
    "kernelspec": {
      "name": "python3",
      "display_name": "Python 3"
    },
    "language_info": {
      "name": "python"
    }
  },
  "cells": [
    {
      "cell_type": "markdown",
      "metadata": {
        "id": "view-in-github",
        "colab_type": "text"
      },
      "source": [
        "<a href=\"https://colab.research.google.com/github/wcj365/jay_data690/blob/main/nlp.ipynb\" target=\"_parent\"><img src=\"https://colab.research.google.com/assets/colab-badge.svg\" alt=\"Open In Colab\"/></a>"
      ]
    },
    {
      "cell_type": "code",
      "execution_count": 10,
      "metadata": {
        "id": "bfEMHvG8CXMv"
      },
      "outputs": [],
      "source": [
        "from collections import Counter\n",
        "import pandas as pd\n",
        "import plotly.express as px\n",
        "import plotly.graph_objects as go\n",
        "from wordcloud import STOPWORDS\n",
        "import gensim\n",
        "from gensim.utils import simple_preprocess\n",
        "import spacy\n",
        "nlp = spacy.load(\"en_core_web_sm\")"
      ]
    },
    {
      "cell_type": "code",
      "source": [
        "df = pd.read_csv(\"https://raw.githubusercontent.com/wcj365/jay_data690/main/reason_for_recall_100.csv\")\n",
        "df.head()"
      ],
      "metadata": {
        "colab": {
          "base_uri": "https://localhost:8080/",
          "height": 206
        },
        "id": "JWf7P5VQCzkW",
        "outputId": "9ca690f6-7045-4660-d075-9a9e25ff771c"
      },
      "execution_count": 3,
      "outputs": [
        {
          "output_type": "execute_result",
          "data": {
            "text/html": [
              "\n",
              "  <div id=\"df-bfad80cc-e866-4724-a267-75c22a0bf4a0\">\n",
              "    <div class=\"colab-df-container\">\n",
              "      <div>\n",
              "<style scoped>\n",
              "    .dataframe tbody tr th:only-of-type {\n",
              "        vertical-align: middle;\n",
              "    }\n",
              "\n",
              "    .dataframe tbody tr th {\n",
              "        vertical-align: top;\n",
              "    }\n",
              "\n",
              "    .dataframe thead th {\n",
              "        text-align: right;\n",
              "    }\n",
              "</style>\n",
              "<table border=\"1\" class=\"dataframe\">\n",
              "  <thead>\n",
              "    <tr style=\"text-align: right;\">\n",
              "      <th></th>\n",
              "      <th>reason_for_recall</th>\n",
              "    </tr>\n",
              "  </thead>\n",
              "  <tbody>\n",
              "    <tr>\n",
              "      <th>0</th>\n",
              "      <td>Unanticipated shut-down:  A specific lot of GE...</td>\n",
              "    </tr>\n",
              "    <tr>\n",
              "      <th>1</th>\n",
              "      <td>The ceramic guide rails, within the XCelerate ...</td>\n",
              "    </tr>\n",
              "    <tr>\n",
              "      <th>2</th>\n",
              "      <td>Reports of difficulty in adjusting the flow ra...</td>\n",
              "    </tr>\n",
              "    <tr>\n",
              "      <th>3</th>\n",
              "      <td>The firm has received complaints regarding spe...</td>\n",
              "    </tr>\n",
              "    <tr>\n",
              "      <th>4</th>\n",
              "      <td>Power cords' prongs may crack or fail -- Phili...</td>\n",
              "    </tr>\n",
              "  </tbody>\n",
              "</table>\n",
              "</div>\n",
              "      <button class=\"colab-df-convert\" onclick=\"convertToInteractive('df-bfad80cc-e866-4724-a267-75c22a0bf4a0')\"\n",
              "              title=\"Convert this dataframe to an interactive table.\"\n",
              "              style=\"display:none;\">\n",
              "        \n",
              "  <svg xmlns=\"http://www.w3.org/2000/svg\" height=\"24px\"viewBox=\"0 0 24 24\"\n",
              "       width=\"24px\">\n",
              "    <path d=\"M0 0h24v24H0V0z\" fill=\"none\"/>\n",
              "    <path d=\"M18.56 5.44l.94 2.06.94-2.06 2.06-.94-2.06-.94-.94-2.06-.94 2.06-2.06.94zm-11 1L8.5 8.5l.94-2.06 2.06-.94-2.06-.94L8.5 2.5l-.94 2.06-2.06.94zm10 10l.94 2.06.94-2.06 2.06-.94-2.06-.94-.94-2.06-.94 2.06-2.06.94z\"/><path d=\"M17.41 7.96l-1.37-1.37c-.4-.4-.92-.59-1.43-.59-.52 0-1.04.2-1.43.59L10.3 9.45l-7.72 7.72c-.78.78-.78 2.05 0 2.83L4 21.41c.39.39.9.59 1.41.59.51 0 1.02-.2 1.41-.59l7.78-7.78 2.81-2.81c.8-.78.8-2.07 0-2.86zM5.41 20L4 18.59l7.72-7.72 1.47 1.35L5.41 20z\"/>\n",
              "  </svg>\n",
              "      </button>\n",
              "      \n",
              "  <style>\n",
              "    .colab-df-container {\n",
              "      display:flex;\n",
              "      flex-wrap:wrap;\n",
              "      gap: 12px;\n",
              "    }\n",
              "\n",
              "    .colab-df-convert {\n",
              "      background-color: #E8F0FE;\n",
              "      border: none;\n",
              "      border-radius: 50%;\n",
              "      cursor: pointer;\n",
              "      display: none;\n",
              "      fill: #1967D2;\n",
              "      height: 32px;\n",
              "      padding: 0 0 0 0;\n",
              "      width: 32px;\n",
              "    }\n",
              "\n",
              "    .colab-df-convert:hover {\n",
              "      background-color: #E2EBFA;\n",
              "      box-shadow: 0px 1px 2px rgba(60, 64, 67, 0.3), 0px 1px 3px 1px rgba(60, 64, 67, 0.15);\n",
              "      fill: #174EA6;\n",
              "    }\n",
              "\n",
              "    [theme=dark] .colab-df-convert {\n",
              "      background-color: #3B4455;\n",
              "      fill: #D2E3FC;\n",
              "    }\n",
              "\n",
              "    [theme=dark] .colab-df-convert:hover {\n",
              "      background-color: #434B5C;\n",
              "      box-shadow: 0px 1px 3px 1px rgba(0, 0, 0, 0.15);\n",
              "      filter: drop-shadow(0px 1px 2px rgba(0, 0, 0, 0.3));\n",
              "      fill: #FFFFFF;\n",
              "    }\n",
              "  </style>\n",
              "\n",
              "      <script>\n",
              "        const buttonEl =\n",
              "          document.querySelector('#df-bfad80cc-e866-4724-a267-75c22a0bf4a0 button.colab-df-convert');\n",
              "        buttonEl.style.display =\n",
              "          google.colab.kernel.accessAllowed ? 'block' : 'none';\n",
              "\n",
              "        async function convertToInteractive(key) {\n",
              "          const element = document.querySelector('#df-bfad80cc-e866-4724-a267-75c22a0bf4a0');\n",
              "          const dataTable =\n",
              "            await google.colab.kernel.invokeFunction('convertToInteractive',\n",
              "                                                     [key], {});\n",
              "          if (!dataTable) return;\n",
              "\n",
              "          const docLinkHtml = 'Like what you see? Visit the ' +\n",
              "            '<a target=\"_blank\" href=https://colab.research.google.com/notebooks/data_table.ipynb>data table notebook</a>'\n",
              "            + ' to learn more about interactive tables.';\n",
              "          element.innerHTML = '';\n",
              "          dataTable['output_type'] = 'display_data';\n",
              "          await google.colab.output.renderOutput(dataTable, element);\n",
              "          const docLink = document.createElement('div');\n",
              "          docLink.innerHTML = docLinkHtml;\n",
              "          element.appendChild(docLink);\n",
              "        }\n",
              "      </script>\n",
              "    </div>\n",
              "  </div>\n",
              "  "
            ],
            "text/plain": [
              "                                   reason_for_recall\n",
              "0  Unanticipated shut-down:  A specific lot of GE...\n",
              "1  The ceramic guide rails, within the XCelerate ...\n",
              "2  Reports of difficulty in adjusting the flow ra...\n",
              "3  The firm has received complaints regarding spe...\n",
              "4  Power cords' prongs may crack or fail -- Phili..."
            ]
          },
          "metadata": {},
          "execution_count": 3
        }
      ]
    },
    {
      "cell_type": "code",
      "source": [
        "text = \" \".join(df[\"reason_for_recall\"].tolist())\n",
        "text"
      ],
      "metadata": {
        "colab": {
          "base_uri": "https://localhost:8080/",
          "height": 139
        },
        "id": "KZZ5OPePDGyh",
        "outputId": "4abf373a-9ea0-4f04-8221-471356744e04"
      },
      "execution_count": 4,
      "outputs": [
        {
          "output_type": "execute_result",
          "data": {
            "application/vnd.google.colaboratory.intrinsic+json": {
              "type": "string"
            },
            "text/plain": [
              "'Unanticipated shut-down:  A specific lot of GE Healthcare Aisys and Avance machines control board wiring harness have a defect, which can cause the machine to unexpectedly shut down, terminating ventilation, anesthetic delivery, and potentially patient monitoring. The ceramic guide rails, within the XCelerate 4:1 Ceramic Cutting Blocks, may fracture and displace from the block. Reports of difficulty in adjusting the flow rate, which could result in flow rate variances. The firm has received complaints regarding specimen integrity (higher rate of specimen fragmentation) as well as complaints that the chamber may stop rotating prematurely, resulting in sample deterioration. Power cords\\' prongs may crack or fail -- Philips was notified that FDA is investigating whether certain types of Electri-Cord Manufacturing Company power cords used with medical devices may be defective in that the power cord\\'s prongs may crack and fail at/or inside the plug.  Potential for burns or electrical shock. The CADD-Legacy¿ 1 Model 6400 Ambulatory Infusion Pump (Serial Number 370969) was shipped without documentation that the required accuracy testing had been performed during the manufacturing process.  If the subject infusion pump did not go through the accuracy testing, and if it does not meet accuracy specifications, there is a potential for over or under-delivery. Abbott has determined that there is a dependence of the i-STAT Hct assay on the vertical pitch angle of the i-STAT Analyzer during the blood analysis cycle. The firm has received complaints that the saddle is too long.   The saddle is supposed to be between 7/8 and 1 1/8 inches long.  The saddle in the complaints was up to 1.9 inches long. These set and/or tray products are being recalled because they include a Covidien Shiley 6PERC or Covidien Shiley 8PERC tracheostomy tube component that has been associated with cuff leakage as a result of the pilot balloon inflation assembly. One lot of product has an incorrect color label.  The color label is a secondary visual indicator of sizing. An incomplete seal on the inner pouch allows exposure to oxygen, which may result in oxidation and would affect long-term performance of the implant. The Dental Chair lacks a valid Device History Record. Users may incorrectly assemble the plastic needle wrench to the phacoemulsification needle resulting in the generation of plastic particulate Suture related device failures during deployment and repositioning of the stent Notification to clinicians of new revision rate data/information regarding the use of the device.  As part of the post-market surveillance, DePuy is  continually evaluating data from a variety of sources including national joint replacement registries, published literature, company sponsored clinical trials, internal complaints data and unpublished clinical research reports.  As part of the post-m Vent port may be occluded and prevent delivery of fluid The manifold seal in the Philips M1657B Water Trap used on the Philips M1013A IntelliVue G1, M1019A, IntelliVue G5, and Anesthesia Gas Modules M1026B/BT may be unintentionally removed when changing the traps. A missing seal may result in leakage and may cause incorrect monitor readings of inspiratory or expiratory gas levels. Needle cannula may separate from the hub during use There are 1-2 places on some of the multi-purpose kit blisters/trays in which there are holes and/or the material is so thin that holes are easily created.  This would potentially cause the sterility of the products to be compromised. Syringe Defects. Group 1 syringes: The plunger pull out force was below specification. Group 2 syringes: The needle length is out of specification. GE Healthcare has become aware of a potential loss of gantry and table motions affecting Innova 2100IQ, 3100, 3100IQ, 4100 and 4100IQ systems with InnovaIQ Table that may impact patient safety. Some systems in these lots have Built-In Pressure System lines with the incorrect amount of spacing. Some systems in these lots had I inch space between each line with no tension applied. The system should have 1.25 inches of space. The correct spacing (1.25\") is necessary to achieve the measured tension ranges. The incorrect spacing may result in the inability to achieve the correct tension level Inaccurate results-- some samples may return with falsely elevated results potentially as a result of an interfering substance.   Some patients may be subjected to additional lifestyle changes or intensified pharmaceutical therapy; such as statins, as a result of the falsely elevated result. Hospira has received numerous customer complaints of the Symbiq infusion pump\\'s failure to detect air-in-line conditions during operation. Potential for a partial or complete separation of the Shaft (sheath) from the hub or a material break in the hub assembly just distal to the hemostasis seal.  If either of these were to occur during use, it is likely that fluids would leak around the Introducer hub and strain relief. Units have excessive fraying of the deployment suture thread, as a result, these devices may experience a suture break during deployment Hitachi determined that the mounting method for a Compensation Coil did not include an appropriate factor of safety, so it is possible that the coil could fall, contacting the patient table and potentially putting a patient at risk. The firm is receiving reports of inaccurate results, which may result in delay of care for seriously ill patients. Stryker Spine has received reports of breakage of the distal end of the AVS TL Spacer Trial during the trialling step of the AVS TL procedure. Guidewires have decreased lubricity at the proximal end, inhibiting proper operation. Potential for c-arm to move due to loose screws Actuating tab may detach from the stopcock body, allowing fluid leak. FDA testing determined that non-coring needles included in the Vaxcel Port and Vaxcel Port with PASV Valve may result in coring and resulting septum damage which could lead to patient injury. Monitor keys may become inoperative or activate spontaneously, causing a membrane switch panel malfunction. This may discharge a patient automatically. Rocks and debris can enter into the wheel cluster housing through a damaged wheel cap causing wheel malfunction. A specific lot of leads are labeled incorrectly.  The leads are 45 cm in length and labeled as 52 cm lead length. In Software versions below A.02.00, with the sync function enabled and the device switched from manual to AED, there may be an unexpected delay in delivery of energy Alcon identified system performance and machine settings that may impact the infusion performance of the CONSTELLATION Vision System, causing unexpected shut down, unresponsive touch screens, and fluidics issues. The affected DORADO PTA Balloon Dilatation catheters contain catheter materials that, under certain conditions, are subject to premature breakage allowing the balloon to partially or completely separate from the catheter shaft. Standards used in the GammaCoat Androstenedione Radioimmunoassay Kit appeared yellowish in color and were gelatinous upon reconstitution. Altitude testing of the Advisor with Capnography module found the CO2 (End Tidal and Inspired) values are incorrect when the Advisor is configured to display in the relative units of percent (%) at elevations above 4,100 feet (at standard temperature pressure).  The % CO values displayed will be lower than the actual CO2 value. Incorrect AC wall adapter was distributed with prostheses.  Incorrect use of adapters could damage the battery and cause a potential fire hazard. Screwdriver handle breakage The possibility that the real time image display can freeze up  during use of a 2D continuous fluoroscopy. Complaints were received from the field regarding prolonged clot times, high control values and erratic results. The dispenser box was mislabeled with the wrong length and the wrong wire gauge. The firm received confirmed reports of Genesis Uni Articular Inserts not locking into tibial base plates intraoperatively. Administration Sets which are used with selected infusion pump systems may have a defect within the fluid path above the upper chamber of the set cassette which does not allow the pump valve to close completely and can allow fluid to leask past and may cause an inaccurate infusion rate.. Seventeen AEDs failed production line testing (Final Acceptance Test). Complaints of patient sample carryover. Flexima Biliary Stent System Devices were packaged with Tyvek tray lids that had incorrect adhesive, resulting in sterile barrier seal defects. The breach of the sterility barrier could lead to the device being non-sterile. Brushhead may unlatch from the power handle Catheter separation immediately distal to the nose of the suture wing. The firm has received complaints of difficulty in releasing the barbed suprarenal stent from the top cap that constrains it, which may result in misplacement of the graft. There is a potential for the ceiling speaker(s) to fall from their position and be pulled to the MR system by the magnetic field. The 3M micropore tape is under recall due to the tape not performing and needles becoming loose and dislodged. The Axiom Artis MP, Artis dMP or Artis zee Multipurpose C-arm gearbox can become damaged.  If the gearbox is damaged, the C-arm may tilt away when being repositioned and collide with nearby objects in its range of motion. Units have excessive fraying of the deployment suture thread, as a result, these devices may experience a suture break during deployment. All unimplanted CLARION and HiResolution cochlear implants due to the potential presence of moisture in the internal circuitry, which can cause the device to stop functioning. Incorrect sample identification can be displayed and printed on the Runtime Panel Report due to a software defect. The kits belonging to lot #s 30804/30804Z and 91803Z may lose activity, after one or two usages, causing the OD values for the Cut-Off Calibrator and/or Positive Control to be recovered below their specified ranges. Software anomally. If the laser is shutdown  or fluctuates outside of the specification limits, the software continues to run and will not indicate a laser failure, and could therefore cause erroneous results. Fill port cap on TPN bags may become detached prior to use, thus compromising the sterility of the fluid pathway. Labeling error; The Bondek Suture product inside the box are of a different catalog number than labeled on the outer box. The patient tables of the affected CT systems are supported by a hydraulic cylinder and a cylinder shaft (i.e. the upper shaft) which connects the tabletop to the table frame.  GE received a report of a HiSpeed LX/I system table falling abruptly due to the filure of the upper shaft.  No injuries were reported. Incorrect length support screws may cause patient lift failure The Hysteroscope Adapter used with the HTA System may disassemble and result in a fluid leak. The user may be unable to pass the device over the guidewire for placement in the patient, resulting in an inability to use the device. The material used in packaging the product results in the presence of an additional artifact band above the HbA fraction. RF energy or powered shaver handpieces may continue to operate when not intended when used with the iSwitch Wireless Foot switch. Medtronic marquis family of ICD and CRT-D devices having batteries manufactured prior to December 2003 that may experience rapid battery depletion due to a specific internal battery short mechanism.  Once a short occurs, depletion can take place within a few hours to a few days, after which there is a complete loss of device function. Inadequate directions for use resulting in fluid leaks, valves sticking in the open position, and flow output restriction. The Mantis Rod Inserter Shaft was found to have deformation of the stainless stell split sphere when subjected to high forces, prohibiting the user from being able to grip the rod implantation and the split sphere may separate and fall into the patient. TPN bags may leak fluid due to inadequate sealing. Sterility of the device is compromised Potential for bright artifacts to appear on the patient image from a previous exposure. Product does not meet the packaging specifications for pouch seal integrity which could lead to a breach in sterility Reports  in a small percentage of Right Heart Catheter Products Line related to cracked catheter tips, leaking at the manifold and cracked hubs. Premature degradation which could result in tearing during use. The APEX Hip System Bipolar Head implant may not properly capture the femoral head assembly of the bipolar head onto the femoral head. A small amount of discoloration was noted on Towelettes included in BD Vacutainer Urine collection kits. The entire kit\\r\\ncomponents retain sterile interiors and no viable growth was detected on the towelettes. The carton label reads BHR Acetabular Cup 60mm contained a 58mm cup. Packaging defects could result in improper mixing ratios and unusable impressions. The wire appears to be soft and the wire bent during insertion.  This causes kinks in which the reamer could not pass over the bent/kinked wire. Software anomaly in the DICOM Modality Worklist.  When restoring a patient\\'s images from the optical disk,  images from the wrong patient may be displayed. Product deviation : Specific lots of sprayed HA hip stems did not meet Stryker\\'s Internal Material Specification for tensile bond strength and crystallinity. Product was marketed without a 510(k). Wound dressing failed to meet sterility specifications. Calcium Scoring feature on this devices is not closing properly after patient\\'s exams. The port/tube bond in the affected cuffs may separate during surgery causing the pressure in the cuff to release. Software update so US customers will be updated equally with worldwide customers.  Ver. 5.0 will be upgraded to ver 7.0.  Quality will improve and enhance functionality. A box packaged and labeled as a Duracon Total Knee Duration A-P Lipped Tibial Insert 11MM may actually contain a 9MM insert. The firm established no medical device quality system, no established quality plan and no established quality procedures. Sterility of the device is compromised due to packaging defects Poor sealing of pouches and degradation of product.  Invalid test results and false negatives are possible. The brushes may experience head breakage when insufficently rinsed after use and when used in combination with toothpastes containing a combination baking soda, peroxide, and sodium lauroyl sarcosinate. Operator misconnected device power cords causing failure of the device. Risk of patient entrapment, may result in serious injury or death. Error in therapy scheduling:  If scheduled orders are documented and edited prior to the orders\\' original schedule time, ICIP can create a second instance of the same order marked as pending. A second instance of an order may result in a patient receiving duplicate therapy or patients may not receive their scheduled therapies. Under certain circumstances, XiO will over-estimate dose in the region where the backup jaw is inside the MLC opening'"
            ]
          },
          "metadata": {},
          "execution_count": 4
        }
      ]
    },
    {
      "cell_type": "markdown",
      "source": [
        ""
      ],
      "metadata": {
        "id": "vcnwLs8HC5uj"
      }
    },
    {
      "cell_type": "code",
      "source": [
        "doc = nlp(text)\n",
        "#remove stopwords and punctuations\n",
        "words = [token.text for token in doc if token.is_stop != True and token.is_punct != True]\n",
        "word_freq = Counter(words)\n",
        "print(type(word_freq))\n",
        "common_words = word_freq.most_common(10)\n",
        "common_words[1:]\n"
      ],
      "metadata": {
        "id": "czI4hFQoCxNj"
      },
      "execution_count": null,
      "outputs": []
    },
    {
      "cell_type": "code",
      "source": [
        "doc_tokenized = [simple_preprocess(text)]\n",
        "dictionary = gensim.corpora.Dictionary()\n",
        "\n",
        "bow = [dictionary.doc2bow(doc, allow_update=True) for doc in doc_tokenized]\n",
        "word_freq = [[(dictionary[id], count) for id, count in line] for line in bow]\n",
        "\n",
        "df = pd.DataFrame(\n",
        "    {\"Word\":[pair[0] for pair in word_freq[0] if pair[0] not in STOPWORDS],\n",
        "     \"Count\":[pair[1] for pair in word_freq[0] if pair[0] not in STOPWORDS]}\n",
        ")\n",
        "\n",
        "df.head()"
      ],
      "metadata": {
        "colab": {
          "base_uri": "https://localhost:8080/",
          "height": 206
        },
        "id": "lOvafZVladWt",
        "outputId": "918d62f5-054b-4110-8153-5965f8ff92a3"
      },
      "execution_count": 15,
      "outputs": [
        {
          "output_type": "execute_result",
          "data": {
            "text/html": [
              "\n",
              "  <div id=\"df-6d66675b-c613-4020-b2dc-11065a4be576\">\n",
              "    <div class=\"colab-df-container\">\n",
              "      <div>\n",
              "<style scoped>\n",
              "    .dataframe tbody tr th:only-of-type {\n",
              "        vertical-align: middle;\n",
              "    }\n",
              "\n",
              "    .dataframe tbody tr th {\n",
              "        vertical-align: top;\n",
              "    }\n",
              "\n",
              "    .dataframe thead th {\n",
              "        text-align: right;\n",
              "    }\n",
              "</style>\n",
              "<table border=\"1\" class=\"dataframe\">\n",
              "  <thead>\n",
              "    <tr style=\"text-align: right;\">\n",
              "      <th></th>\n",
              "      <th>Word</th>\n",
              "      <th>Count</th>\n",
              "    </tr>\n",
              "  </thead>\n",
              "  <tbody>\n",
              "    <tr>\n",
              "      <th>0</th>\n",
              "      <td>abbott</td>\n",
              "      <td>1</td>\n",
              "    </tr>\n",
              "    <tr>\n",
              "      <th>1</th>\n",
              "      <td>able</td>\n",
              "      <td>1</td>\n",
              "    </tr>\n",
              "    <tr>\n",
              "      <th>2</th>\n",
              "      <td>abruptly</td>\n",
              "      <td>1</td>\n",
              "    </tr>\n",
              "    <tr>\n",
              "      <th>3</th>\n",
              "      <td>ac</td>\n",
              "      <td>1</td>\n",
              "    </tr>\n",
              "    <tr>\n",
              "      <th>4</th>\n",
              "      <td>acceptance</td>\n",
              "      <td>1</td>\n",
              "    </tr>\n",
              "  </tbody>\n",
              "</table>\n",
              "</div>\n",
              "      <button class=\"colab-df-convert\" onclick=\"convertToInteractive('df-6d66675b-c613-4020-b2dc-11065a4be576')\"\n",
              "              title=\"Convert this dataframe to an interactive table.\"\n",
              "              style=\"display:none;\">\n",
              "        \n",
              "  <svg xmlns=\"http://www.w3.org/2000/svg\" height=\"24px\"viewBox=\"0 0 24 24\"\n",
              "       width=\"24px\">\n",
              "    <path d=\"M0 0h24v24H0V0z\" fill=\"none\"/>\n",
              "    <path d=\"M18.56 5.44l.94 2.06.94-2.06 2.06-.94-2.06-.94-.94-2.06-.94 2.06-2.06.94zm-11 1L8.5 8.5l.94-2.06 2.06-.94-2.06-.94L8.5 2.5l-.94 2.06-2.06.94zm10 10l.94 2.06.94-2.06 2.06-.94-2.06-.94-.94-2.06-.94 2.06-2.06.94z\"/><path d=\"M17.41 7.96l-1.37-1.37c-.4-.4-.92-.59-1.43-.59-.52 0-1.04.2-1.43.59L10.3 9.45l-7.72 7.72c-.78.78-.78 2.05 0 2.83L4 21.41c.39.39.9.59 1.41.59.51 0 1.02-.2 1.41-.59l7.78-7.78 2.81-2.81c.8-.78.8-2.07 0-2.86zM5.41 20L4 18.59l7.72-7.72 1.47 1.35L5.41 20z\"/>\n",
              "  </svg>\n",
              "      </button>\n",
              "      \n",
              "  <style>\n",
              "    .colab-df-container {\n",
              "      display:flex;\n",
              "      flex-wrap:wrap;\n",
              "      gap: 12px;\n",
              "    }\n",
              "\n",
              "    .colab-df-convert {\n",
              "      background-color: #E8F0FE;\n",
              "      border: none;\n",
              "      border-radius: 50%;\n",
              "      cursor: pointer;\n",
              "      display: none;\n",
              "      fill: #1967D2;\n",
              "      height: 32px;\n",
              "      padding: 0 0 0 0;\n",
              "      width: 32px;\n",
              "    }\n",
              "\n",
              "    .colab-df-convert:hover {\n",
              "      background-color: #E2EBFA;\n",
              "      box-shadow: 0px 1px 2px rgba(60, 64, 67, 0.3), 0px 1px 3px 1px rgba(60, 64, 67, 0.15);\n",
              "      fill: #174EA6;\n",
              "    }\n",
              "\n",
              "    [theme=dark] .colab-df-convert {\n",
              "      background-color: #3B4455;\n",
              "      fill: #D2E3FC;\n",
              "    }\n",
              "\n",
              "    [theme=dark] .colab-df-convert:hover {\n",
              "      background-color: #434B5C;\n",
              "      box-shadow: 0px 1px 3px 1px rgba(0, 0, 0, 0.15);\n",
              "      filter: drop-shadow(0px 1px 2px rgba(0, 0, 0, 0.3));\n",
              "      fill: #FFFFFF;\n",
              "    }\n",
              "  </style>\n",
              "\n",
              "      <script>\n",
              "        const buttonEl =\n",
              "          document.querySelector('#df-6d66675b-c613-4020-b2dc-11065a4be576 button.colab-df-convert');\n",
              "        buttonEl.style.display =\n",
              "          google.colab.kernel.accessAllowed ? 'block' : 'none';\n",
              "\n",
              "        async function convertToInteractive(key) {\n",
              "          const element = document.querySelector('#df-6d66675b-c613-4020-b2dc-11065a4be576');\n",
              "          const dataTable =\n",
              "            await google.colab.kernel.invokeFunction('convertToInteractive',\n",
              "                                                     [key], {});\n",
              "          if (!dataTable) return;\n",
              "\n",
              "          const docLinkHtml = 'Like what you see? Visit the ' +\n",
              "            '<a target=\"_blank\" href=https://colab.research.google.com/notebooks/data_table.ipynb>data table notebook</a>'\n",
              "            + ' to learn more about interactive tables.';\n",
              "          element.innerHTML = '';\n",
              "          dataTable['output_type'] = 'display_data';\n",
              "          await google.colab.output.renderOutput(dataTable, element);\n",
              "          const docLink = document.createElement('div');\n",
              "          docLink.innerHTML = docLinkHtml;\n",
              "          element.appendChild(docLink);\n",
              "        }\n",
              "      </script>\n",
              "    </div>\n",
              "  </div>\n",
              "  "
            ],
            "text/plain": [
              "         Word  Count\n",
              "0      abbott      1\n",
              "1        able      1\n",
              "2    abruptly      1\n",
              "3          ac      1\n",
              "4  acceptance      1"
            ]
          },
          "metadata": {},
          "execution_count": 15
        }
      ]
    },
    {
      "cell_type": "code",
      "source": [
        "fig = go.Figure()\n",
        "\n",
        "trace_0 = go.Bar(\n",
        "    x=[pair[0] for pair in word_freq.most_common(10)],\n",
        "    y=[pair[1] for pair in word_freq.most_common(10)]\n",
        ")\n",
        "\n",
        "fig.add_trace(trace_0)\n",
        "\n",
        "fig.update_layout(\n",
        "    title=\"Word Frequency\",\n",
        "    yaxis={\"title\":\"Frequency\"},\n",
        "    xaxis={\"title\":\"Word\"}    \n",
        ")\n",
        "\n",
        "fig.show()"
      ],
      "metadata": {
        "colab": {
          "base_uri": "https://localhost:8080/",
          "height": 235
        },
        "id": "sOlGunVIEN5T",
        "outputId": "3b9525fd-f9cc-4aab-9ff7-b7802a3e780e"
      },
      "execution_count": 12,
      "outputs": [
        {
          "output_type": "error",
          "ename": "AttributeError",
          "evalue": "ignored",
          "traceback": [
            "\u001b[0;31m---------------------------------------------------------------------------\u001b[0m",
            "\u001b[0;31mAttributeError\u001b[0m                            Traceback (most recent call last)",
            "\u001b[0;32m<ipython-input-12-dcf90e29381e>\u001b[0m in \u001b[0;36m<module>\u001b[0;34m()\u001b[0m\n\u001b[1;32m      2\u001b[0m \u001b[0;34m\u001b[0m\u001b[0m\n\u001b[1;32m      3\u001b[0m trace_0 = go.Bar(\n\u001b[0;32m----> 4\u001b[0;31m     \u001b[0mx\u001b[0m\u001b[0;34m=\u001b[0m\u001b[0;34m[\u001b[0m\u001b[0mpair\u001b[0m\u001b[0;34m[\u001b[0m\u001b[0;36m0\u001b[0m\u001b[0;34m]\u001b[0m \u001b[0;32mfor\u001b[0m \u001b[0mpair\u001b[0m \u001b[0;32min\u001b[0m \u001b[0mword_freq\u001b[0m\u001b[0;34m.\u001b[0m\u001b[0mmost_common\u001b[0m\u001b[0;34m(\u001b[0m\u001b[0;36m10\u001b[0m\u001b[0;34m)\u001b[0m\u001b[0;34m]\u001b[0m\u001b[0;34m,\u001b[0m\u001b[0;34m\u001b[0m\u001b[0;34m\u001b[0m\u001b[0m\n\u001b[0m\u001b[1;32m      5\u001b[0m     \u001b[0my\u001b[0m\u001b[0;34m=\u001b[0m\u001b[0;34m[\u001b[0m\u001b[0mpair\u001b[0m\u001b[0;34m[\u001b[0m\u001b[0;36m1\u001b[0m\u001b[0;34m]\u001b[0m \u001b[0;32mfor\u001b[0m \u001b[0mpair\u001b[0m \u001b[0;32min\u001b[0m \u001b[0mword_freq\u001b[0m\u001b[0;34m.\u001b[0m\u001b[0mmost_common\u001b[0m\u001b[0;34m(\u001b[0m\u001b[0;36m10\u001b[0m\u001b[0;34m)\u001b[0m\u001b[0;34m]\u001b[0m\u001b[0;34m\u001b[0m\u001b[0;34m\u001b[0m\u001b[0m\n\u001b[1;32m      6\u001b[0m )\n",
            "\u001b[0;31mAttributeError\u001b[0m: 'list' object has no attribute 'most_common'"
          ]
        }
      ]
    },
    {
      "cell_type": "code",
      "source": [
        "df2 = df.sort_values(\"Count\", ascending=False).head(50)\n",
        "\n",
        "fig = px.bar(\n",
        "    df2,\n",
        "    y=\"Word\",\n",
        "    x=\"Count\",\n",
        "    title=\"Word Frequency\",\n",
        "    color=\"Word\",\n",
        "    orientation=\"h\"\n",
        ")\n",
        "\n",
        "fig.update_layout(\n",
        "    showlegend=False\n",
        ")\n",
        "\n",
        "fig.show()"
      ],
      "metadata": {
        "colab": {
          "base_uri": "https://localhost:8080/",
          "height": 542
        },
        "id": "5JL5Rsf4JVbI",
        "outputId": "93f54564-a1ee-4e59-c5d5-9efff455f270"
      },
      "execution_count": 17,
      "outputs": [
        {
          "output_type": "display_data",
          "data": {
            "text/html": [
              "<html>\n",
              "<head><meta charset=\"utf-8\" /></head>\n",
              "<body>\n",
              "    <div>            <script src=\"https://cdnjs.cloudflare.com/ajax/libs/mathjax/2.7.5/MathJax.js?config=TeX-AMS-MML_SVG\"></script><script type=\"text/javascript\">if (window.MathJax) {MathJax.Hub.Config({SVG: {font: \"STIX-Web\"}});}</script>                <script type=\"text/javascript\">window.PlotlyConfig = {MathJaxConfig: 'local'};</script>\n",
              "        <script src=\"https://cdn.plot.ly/plotly-2.8.3.min.js\"></script>                <div id=\"ef41e4d2-ef02-424f-ab3b-a14209c021eb\" class=\"plotly-graph-div\" style=\"height:525px; width:100%;\"></div>            <script type=\"text/javascript\">                                    window.PLOTLYENV=window.PLOTLYENV || {};                                    if (document.getElementById(\"ef41e4d2-ef02-424f-ab3b-a14209c021eb\")) {                    Plotly.newPlot(                        \"ef41e4d2-ef02-424f-ab3b-a14209c021eb\",                        [{\"alignmentgroup\":\"True\",\"hovertemplate\":\"Word=%{y}<br>Count=%{x}<extra></extra>\",\"legendgroup\":\"may\",\"marker\":{\"color\":\"#636efa\",\"pattern\":{\"shape\":\"\"}},\"name\":\"may\",\"offsetgroup\":\"may\",\"orientation\":\"h\",\"showlegend\":true,\"textposition\":\"auto\",\"x\":[47],\"xaxis\":\"x\",\"y\":[\"may\"],\"yaxis\":\"y\",\"type\":\"bar\"},{\"alignmentgroup\":\"True\",\"hovertemplate\":\"Word=%{y}<br>Count=%{x}<extra></extra>\",\"legendgroup\":\"result\",\"marker\":{\"color\":\"#EF553B\",\"pattern\":{\"shape\":\"\"}},\"name\":\"result\",\"offsetgroup\":\"result\",\"orientation\":\"h\",\"showlegend\":true,\"textposition\":\"auto\",\"x\":[18],\"xaxis\":\"x\",\"y\":[\"result\"],\"yaxis\":\"y\",\"type\":\"bar\"},{\"alignmentgroup\":\"True\",\"hovertemplate\":\"Word=%{y}<br>Count=%{x}<extra></extra>\",\"legendgroup\":\"patient\",\"marker\":{\"color\":\"#00cc96\",\"pattern\":{\"shape\":\"\"}},\"name\":\"patient\",\"offsetgroup\":\"patient\",\"orientation\":\"h\",\"showlegend\":true,\"textposition\":\"auto\",\"x\":[17],\"xaxis\":\"x\",\"y\":[\"patient\"],\"yaxis\":\"y\",\"type\":\"bar\"},{\"alignmentgroup\":\"True\",\"hovertemplate\":\"Word=%{y}<br>Count=%{x}<extra></extra>\",\"legendgroup\":\"device\",\"marker\":{\"color\":\"#ab63fa\",\"pattern\":{\"shape\":\"\"}},\"name\":\"device\",\"offsetgroup\":\"device\",\"orientation\":\"h\",\"showlegend\":true,\"textposition\":\"auto\",\"x\":[14],\"xaxis\":\"x\",\"y\":[\"device\"],\"yaxis\":\"y\",\"type\":\"bar\"},{\"alignmentgroup\":\"True\",\"hovertemplate\":\"Word=%{y}<br>Count=%{x}<extra></extra>\",\"legendgroup\":\"incorrect\",\"marker\":{\"color\":\"#FFA15A\",\"pattern\":{\"shape\":\"\"}},\"name\":\"incorrect\",\"offsetgroup\":\"incorrect\",\"orientation\":\"h\",\"showlegend\":true,\"textposition\":\"auto\",\"x\":[10],\"xaxis\":\"x\",\"y\":[\"incorrect\"],\"yaxis\":\"y\",\"type\":\"bar\"},{\"alignmentgroup\":\"True\",\"hovertemplate\":\"Word=%{y}<br>Count=%{x}<extra></extra>\",\"legendgroup\":\"system\",\"marker\":{\"color\":\"#19d3f3\",\"pattern\":{\"shape\":\"\"}},\"name\":\"system\",\"offsetgroup\":\"system\",\"orientation\":\"h\",\"showlegend\":true,\"textposition\":\"auto\",\"x\":[10],\"xaxis\":\"x\",\"y\":[\"system\"],\"yaxis\":\"y\",\"type\":\"bar\"},{\"alignmentgroup\":\"True\",\"hovertemplate\":\"Word=%{y}<br>Count=%{x}<extra></extra>\",\"legendgroup\":\"use\",\"marker\":{\"color\":\"#FF6692\",\"pattern\":{\"shape\":\"\"}},\"name\":\"use\",\"offsetgroup\":\"use\",\"orientation\":\"h\",\"showlegend\":true,\"textposition\":\"auto\",\"x\":[10],\"xaxis\":\"x\",\"y\":[\"use\"],\"yaxis\":\"y\",\"type\":\"bar\"},{\"alignmentgroup\":\"True\",\"hovertemplate\":\"Word=%{y}<br>Count=%{x}<extra></extra>\",\"legendgroup\":\"potential\",\"marker\":{\"color\":\"#B6E880\",\"pattern\":{\"shape\":\"\"}},\"name\":\"potential\",\"offsetgroup\":\"potential\",\"orientation\":\"h\",\"showlegend\":true,\"textposition\":\"auto\",\"x\":[9],\"xaxis\":\"x\",\"y\":[\"potential\"],\"yaxis\":\"y\",\"type\":\"bar\"},{\"alignmentgroup\":\"True\",\"hovertemplate\":\"Word=%{y}<br>Count=%{x}<extra></extra>\",\"legendgroup\":\"complaints\",\"marker\":{\"color\":\"#FF97FF\",\"pattern\":{\"shape\":\"\"}},\"name\":\"complaints\",\"offsetgroup\":\"complaints\",\"orientation\":\"h\",\"showlegend\":true,\"textposition\":\"auto\",\"x\":[9],\"xaxis\":\"x\",\"y\":[\"complaints\"],\"yaxis\":\"y\",\"type\":\"bar\"},{\"alignmentgroup\":\"True\",\"hovertemplate\":\"Word=%{y}<br>Count=%{x}<extra></extra>\",\"legendgroup\":\"due\",\"marker\":{\"color\":\"#FECB52\",\"pattern\":{\"shape\":\"\"}},\"name\":\"due\",\"offsetgroup\":\"due\",\"orientation\":\"h\",\"showlegend\":true,\"textposition\":\"auto\",\"x\":[8],\"xaxis\":\"x\",\"y\":[\"due\"],\"yaxis\":\"y\",\"type\":\"bar\"},{\"alignmentgroup\":\"True\",\"hovertemplate\":\"Word=%{y}<br>Count=%{x}<extra></extra>\",\"legendgroup\":\"received\",\"marker\":{\"color\":\"#636efa\",\"pattern\":{\"shape\":\"\"}},\"name\":\"received\",\"offsetgroup\":\"received\",\"orientation\":\"h\",\"showlegend\":true,\"textposition\":\"auto\",\"x\":[8],\"xaxis\":\"x\",\"y\":[\"received\"],\"yaxis\":\"y\",\"type\":\"bar\"},{\"alignmentgroup\":\"True\",\"hovertemplate\":\"Word=%{y}<br>Count=%{x}<extra></extra>\",\"legendgroup\":\"fluid\",\"marker\":{\"color\":\"#EF553B\",\"pattern\":{\"shape\":\"\"}},\"name\":\"fluid\",\"offsetgroup\":\"fluid\",\"orientation\":\"h\",\"showlegend\":true,\"textposition\":\"auto\",\"x\":[8],\"xaxis\":\"x\",\"y\":[\"fluid\"],\"yaxis\":\"y\",\"type\":\"bar\"},{\"alignmentgroup\":\"True\",\"hovertemplate\":\"Word=%{y}<br>Count=%{x}<extra></extra>\",\"legendgroup\":\"cause\",\"marker\":{\"color\":\"#00cc96\",\"pattern\":{\"shape\":\"\"}},\"name\":\"cause\",\"offsetgroup\":\"cause\",\"orientation\":\"h\",\"showlegend\":true,\"textposition\":\"auto\",\"x\":[8],\"xaxis\":\"x\",\"y\":[\"cause\"],\"yaxis\":\"y\",\"type\":\"bar\"},{\"alignmentgroup\":\"True\",\"hovertemplate\":\"Word=%{y}<br>Count=%{x}<extra></extra>\",\"legendgroup\":\"used\",\"marker\":{\"color\":\"#ab63fa\",\"pattern\":{\"shape\":\"\"}},\"name\":\"used\",\"offsetgroup\":\"used\",\"orientation\":\"h\",\"showlegend\":true,\"textposition\":\"auto\",\"x\":[8],\"xaxis\":\"x\",\"y\":[\"used\"],\"yaxis\":\"y\",\"type\":\"bar\"},{\"alignmentgroup\":\"True\",\"hovertemplate\":\"Word=%{y}<br>Count=%{x}<extra></extra>\",\"legendgroup\":\"product\",\"marker\":{\"color\":\"#FFA15A\",\"pattern\":{\"shape\":\"\"}},\"name\":\"product\",\"offsetgroup\":\"product\",\"orientation\":\"h\",\"showlegend\":true,\"textposition\":\"auto\",\"x\":[7],\"xaxis\":\"x\",\"y\":[\"product\"],\"yaxis\":\"y\",\"type\":\"bar\"},{\"alignmentgroup\":\"True\",\"hovertemplate\":\"Word=%{y}<br>Count=%{x}<extra></extra>\",\"legendgroup\":\"suture\",\"marker\":{\"color\":\"#19d3f3\",\"pattern\":{\"shape\":\"\"}},\"name\":\"suture\",\"offsetgroup\":\"suture\",\"orientation\":\"h\",\"showlegend\":true,\"textposition\":\"auto\",\"x\":[7],\"xaxis\":\"x\",\"y\":[\"suture\"],\"yaxis\":\"y\",\"type\":\"bar\"},{\"alignmentgroup\":\"True\",\"hovertemplate\":\"Word=%{y}<br>Count=%{x}<extra></extra>\",\"legendgroup\":\"sterility\",\"marker\":{\"color\":\"#FF6692\",\"pattern\":{\"shape\":\"\"}},\"name\":\"sterility\",\"offsetgroup\":\"sterility\",\"orientation\":\"h\",\"showlegend\":true,\"textposition\":\"auto\",\"x\":[7],\"xaxis\":\"x\",\"y\":[\"sterility\"],\"yaxis\":\"y\",\"type\":\"bar\"},{\"alignmentgroup\":\"True\",\"hovertemplate\":\"Word=%{y}<br>Count=%{x}<extra></extra>\",\"legendgroup\":\"results\",\"marker\":{\"color\":\"#B6E880\",\"pattern\":{\"shape\":\"\"}},\"name\":\"results\",\"offsetgroup\":\"results\",\"orientation\":\"h\",\"showlegend\":true,\"textposition\":\"auto\",\"x\":[7],\"xaxis\":\"x\",\"y\":[\"results\"],\"yaxis\":\"y\",\"type\":\"bar\"},{\"alignmentgroup\":\"True\",\"hovertemplate\":\"Word=%{y}<br>Count=%{x}<extra></extra>\",\"legendgroup\":\"devices\",\"marker\":{\"color\":\"#FF97FF\",\"pattern\":{\"shape\":\"\"}},\"name\":\"devices\",\"offsetgroup\":\"devices\",\"orientation\":\"h\",\"showlegend\":true,\"textposition\":\"auto\",\"x\":[6],\"xaxis\":\"x\",\"y\":[\"devices\"],\"yaxis\":\"y\",\"type\":\"bar\"},{\"alignmentgroup\":\"True\",\"hovertemplate\":\"Word=%{y}<br>Count=%{x}<extra></extra>\",\"legendgroup\":\"seal\",\"marker\":{\"color\":\"#FECB52\",\"pattern\":{\"shape\":\"\"}},\"name\":\"seal\",\"offsetgroup\":\"seal\",\"orientation\":\"h\",\"showlegend\":true,\"textposition\":\"auto\",\"x\":[6],\"xaxis\":\"x\",\"y\":[\"seal\"],\"yaxis\":\"y\",\"type\":\"bar\"},{\"alignmentgroup\":\"True\",\"hovertemplate\":\"Word=%{y}<br>Count=%{x}<extra></extra>\",\"legendgroup\":\"shaft\",\"marker\":{\"color\":\"#636efa\",\"pattern\":{\"shape\":\"\"}},\"name\":\"shaft\",\"offsetgroup\":\"shaft\",\"orientation\":\"h\",\"showlegend\":true,\"textposition\":\"auto\",\"x\":[6],\"xaxis\":\"x\",\"y\":[\"shaft\"],\"yaxis\":\"y\",\"type\":\"bar\"},{\"alignmentgroup\":\"True\",\"hovertemplate\":\"Word=%{y}<br>Count=%{x}<extra></extra>\",\"legendgroup\":\"will\",\"marker\":{\"color\":\"#EF553B\",\"pattern\":{\"shape\":\"\"}},\"name\":\"will\",\"offsetgroup\":\"will\",\"orientation\":\"h\",\"showlegend\":true,\"textposition\":\"auto\",\"x\":[6],\"xaxis\":\"x\",\"y\":[\"will\"],\"yaxis\":\"y\",\"type\":\"bar\"},{\"alignmentgroup\":\"True\",\"hovertemplate\":\"Word=%{y}<br>Count=%{x}<extra></extra>\",\"legendgroup\":\"software\",\"marker\":{\"color\":\"#00cc96\",\"pattern\":{\"shape\":\"\"}},\"name\":\"software\",\"offsetgroup\":\"software\",\"orientation\":\"h\",\"showlegend\":true,\"textposition\":\"auto\",\"x\":[6],\"xaxis\":\"x\",\"y\":[\"software\"],\"yaxis\":\"y\",\"type\":\"bar\"},{\"alignmentgroup\":\"True\",\"hovertemplate\":\"Word=%{y}<br>Count=%{x}<extra></extra>\",\"legendgroup\":\"resulting\",\"marker\":{\"color\":\"#ab63fa\",\"pattern\":{\"shape\":\"\"}},\"name\":\"resulting\",\"offsetgroup\":\"resulting\",\"orientation\":\"h\",\"showlegend\":true,\"textposition\":\"auto\",\"x\":[6],\"xaxis\":\"x\",\"y\":[\"resulting\"],\"yaxis\":\"y\",\"type\":\"bar\"},{\"alignmentgroup\":\"True\",\"hovertemplate\":\"Word=%{y}<br>Count=%{x}<extra></extra>\",\"legendgroup\":\"reports\",\"marker\":{\"color\":\"#FFA15A\",\"pattern\":{\"shape\":\"\"}},\"name\":\"reports\",\"offsetgroup\":\"reports\",\"orientation\":\"h\",\"showlegend\":true,\"textposition\":\"auto\",\"x\":[6],\"xaxis\":\"x\",\"y\":[\"reports\"],\"yaxis\":\"y\",\"type\":\"bar\"},{\"alignmentgroup\":\"True\",\"hovertemplate\":\"Word=%{y}<br>Count=%{x}<extra></extra>\",\"legendgroup\":\"firm\",\"marker\":{\"color\":\"#19d3f3\",\"pattern\":{\"shape\":\"\"}},\"name\":\"firm\",\"offsetgroup\":\"firm\",\"orientation\":\"h\",\"showlegend\":true,\"textposition\":\"auto\",\"x\":[6],\"xaxis\":\"x\",\"y\":[\"firm\"],\"yaxis\":\"y\",\"type\":\"bar\"},{\"alignmentgroup\":\"True\",\"hovertemplate\":\"Word=%{y}<br>Count=%{x}<extra></extra>\",\"legendgroup\":\"causing\",\"marker\":{\"color\":\"#FF6692\",\"pattern\":{\"shape\":\"\"}},\"name\":\"causing\",\"offsetgroup\":\"causing\",\"orientation\":\"h\",\"showlegend\":true,\"textposition\":\"auto\",\"x\":[6],\"xaxis\":\"x\",\"y\":[\"causing\"],\"yaxis\":\"y\",\"type\":\"bar\"},{\"alignmentgroup\":\"True\",\"hovertemplate\":\"Word=%{y}<br>Count=%{x}<extra></extra>\",\"legendgroup\":\"infusion\",\"marker\":{\"color\":\"#B6E880\",\"pattern\":{\"shape\":\"\"}},\"name\":\"infusion\",\"offsetgroup\":\"infusion\",\"orientation\":\"h\",\"showlegend\":true,\"textposition\":\"auto\",\"x\":[6],\"xaxis\":\"x\",\"y\":[\"infusion\"],\"yaxis\":\"y\",\"type\":\"bar\"},{\"alignmentgroup\":\"True\",\"hovertemplate\":\"Word=%{y}<br>Count=%{x}<extra></extra>\",\"legendgroup\":\"table\",\"marker\":{\"color\":\"#FF97FF\",\"pattern\":{\"shape\":\"\"}},\"name\":\"table\",\"offsetgroup\":\"table\",\"orientation\":\"h\",\"showlegend\":true,\"textposition\":\"auto\",\"x\":[5],\"xaxis\":\"x\",\"y\":[\"table\"],\"yaxis\":\"y\",\"type\":\"bar\"},{\"alignmentgroup\":\"True\",\"hovertemplate\":\"Word=%{y}<br>Count=%{x}<extra></extra>\",\"legendgroup\":\"systems\",\"marker\":{\"color\":\"#FECB52\",\"pattern\":{\"shape\":\"\"}},\"name\":\"systems\",\"offsetgroup\":\"systems\",\"orientation\":\"h\",\"showlegend\":true,\"textposition\":\"auto\",\"x\":[5],\"xaxis\":\"x\",\"y\":[\"systems\"],\"yaxis\":\"y\",\"type\":\"bar\"},{\"alignmentgroup\":\"True\",\"hovertemplate\":\"Word=%{y}<br>Count=%{x}<extra></extra>\",\"legendgroup\":\"length\",\"marker\":{\"color\":\"#636efa\",\"pattern\":{\"shape\":\"\"}},\"name\":\"length\",\"offsetgroup\":\"length\",\"orientation\":\"h\",\"showlegend\":true,\"textposition\":\"auto\",\"x\":[5],\"xaxis\":\"x\",\"y\":[\"length\"],\"yaxis\":\"y\",\"type\":\"bar\"},{\"alignmentgroup\":\"True\",\"hovertemplate\":\"Word=%{y}<br>Count=%{x}<extra></extra>\",\"legendgroup\":\"port\",\"marker\":{\"color\":\"#EF553B\",\"pattern\":{\"shape\":\"\"}},\"name\":\"port\",\"offsetgroup\":\"port\",\"orientation\":\"h\",\"showlegend\":true,\"textposition\":\"auto\",\"x\":[5],\"xaxis\":\"x\",\"y\":[\"port\"],\"yaxis\":\"y\",\"type\":\"bar\"},{\"alignmentgroup\":\"True\",\"hovertemplate\":\"Word=%{y}<br>Count=%{x}<extra></extra>\",\"legendgroup\":\"head\",\"marker\":{\"color\":\"#00cc96\",\"pattern\":{\"shape\":\"\"}},\"name\":\"head\",\"offsetgroup\":\"head\",\"orientation\":\"h\",\"showlegend\":true,\"textposition\":\"auto\",\"x\":[5],\"xaxis\":\"x\",\"y\":[\"head\"],\"yaxis\":\"y\",\"type\":\"bar\"},{\"alignmentgroup\":\"True\",\"hovertemplate\":\"Word=%{y}<br>Count=%{x}<extra></extra>\",\"legendgroup\":\"deployment\",\"marker\":{\"color\":\"#ab63fa\",\"pattern\":{\"shape\":\"\"}},\"name\":\"deployment\",\"offsetgroup\":\"deployment\",\"orientation\":\"h\",\"showlegend\":true,\"textposition\":\"auto\",\"x\":[5],\"xaxis\":\"x\",\"y\":[\"deployment\"],\"yaxis\":\"y\",\"type\":\"bar\"},{\"alignmentgroup\":\"True\",\"hovertemplate\":\"Word=%{y}<br>Count=%{x}<extra></extra>\",\"legendgroup\":\"catheter\",\"marker\":{\"color\":\"#FFA15A\",\"pattern\":{\"shape\":\"\"}},\"name\":\"catheter\",\"offsetgroup\":\"catheter\",\"orientation\":\"h\",\"showlegend\":true,\"textposition\":\"auto\",\"x\":[5],\"xaxis\":\"x\",\"y\":[\"catheter\"],\"yaxis\":\"y\",\"type\":\"bar\"},{\"alignmentgroup\":\"True\",\"hovertemplate\":\"Word=%{y}<br>Count=%{x}<extra></extra>\",\"legendgroup\":\"power\",\"marker\":{\"color\":\"#19d3f3\",\"pattern\":{\"shape\":\"\"}},\"name\":\"power\",\"offsetgroup\":\"power\",\"orientation\":\"h\",\"showlegend\":true,\"textposition\":\"auto\",\"x\":[5],\"xaxis\":\"x\",\"y\":[\"power\"],\"yaxis\":\"y\",\"type\":\"bar\"},{\"alignmentgroup\":\"True\",\"hovertemplate\":\"Word=%{y}<br>Count=%{x}<extra></extra>\",\"legendgroup\":\"rate\",\"marker\":{\"color\":\"#FF6692\",\"pattern\":{\"shape\":\"\"}},\"name\":\"rate\",\"offsetgroup\":\"rate\",\"orientation\":\"h\",\"showlegend\":true,\"textposition\":\"auto\",\"x\":[5],\"xaxis\":\"x\",\"y\":[\"rate\"],\"yaxis\":\"y\",\"type\":\"bar\"},{\"alignmentgroup\":\"True\",\"hovertemplate\":\"Word=%{y}<br>Count=%{x}<extra></extra>\",\"legendgroup\":\"pump\",\"marker\":{\"color\":\"#B6E880\",\"pattern\":{\"shape\":\"\"}},\"name\":\"pump\",\"offsetgroup\":\"pump\",\"orientation\":\"h\",\"showlegend\":true,\"textposition\":\"auto\",\"x\":[5],\"xaxis\":\"x\",\"y\":[\"pump\"],\"yaxis\":\"y\",\"type\":\"bar\"},{\"alignmentgroup\":\"True\",\"hovertemplate\":\"Word=%{y}<br>Count=%{x}<extra></extra>\",\"legendgroup\":\"testing\",\"marker\":{\"color\":\"#FF97FF\",\"pattern\":{\"shape\":\"\"}},\"name\":\"testing\",\"offsetgroup\":\"testing\",\"orientation\":\"h\",\"showlegend\":true,\"textposition\":\"auto\",\"x\":[5],\"xaxis\":\"x\",\"y\":[\"testing\"],\"yaxis\":\"y\",\"type\":\"bar\"},{\"alignmentgroup\":\"True\",\"hovertemplate\":\"Word=%{y}<br>Count=%{x}<extra></extra>\",\"legendgroup\":\"become\",\"marker\":{\"color\":\"#FECB52\",\"pattern\":{\"shape\":\"\"}},\"name\":\"become\",\"offsetgroup\":\"become\",\"orientation\":\"h\",\"showlegend\":true,\"textposition\":\"auto\",\"x\":[4],\"xaxis\":\"x\",\"y\":[\"become\"],\"yaxis\":\"y\",\"type\":\"bar\"},{\"alignmentgroup\":\"True\",\"hovertemplate\":\"Word=%{y}<br>Count=%{x}<extra></extra>\",\"legendgroup\":\"material\",\"marker\":{\"color\":\"#636efa\",\"pattern\":{\"shape\":\"\"}},\"name\":\"material\",\"offsetgroup\":\"material\",\"orientation\":\"h\",\"showlegend\":true,\"textposition\":\"auto\",\"x\":[4],\"xaxis\":\"x\",\"y\":[\"material\"],\"yaxis\":\"y\",\"type\":\"bar\"},{\"alignmentgroup\":\"True\",\"hovertemplate\":\"Word=%{y}<br>Count=%{x}<extra></extra>\",\"legendgroup\":\"long\",\"marker\":{\"color\":\"#EF553B\",\"pattern\":{\"shape\":\"\"}},\"name\":\"long\",\"offsetgroup\":\"long\",\"orientation\":\"h\",\"showlegend\":true,\"textposition\":\"auto\",\"x\":[4],\"xaxis\":\"x\",\"y\":[\"long\"],\"yaxis\":\"y\",\"type\":\"bar\"},{\"alignmentgroup\":\"True\",\"hovertemplate\":\"Word=%{y}<br>Count=%{x}<extra></extra>\",\"legendgroup\":\"lot\",\"marker\":{\"color\":\"#00cc96\",\"pattern\":{\"shape\":\"\"}},\"name\":\"lot\",\"offsetgroup\":\"lot\",\"orientation\":\"h\",\"showlegend\":true,\"textposition\":\"auto\",\"x\":[4],\"xaxis\":\"x\",\"y\":[\"lot\"],\"yaxis\":\"y\",\"type\":\"bar\"},{\"alignmentgroup\":\"True\",\"hovertemplate\":\"Word=%{y}<br>Count=%{x}<extra></extra>\",\"legendgroup\":\"breakage\",\"marker\":{\"color\":\"#ab63fa\",\"pattern\":{\"shape\":\"\"}},\"name\":\"breakage\",\"offsetgroup\":\"breakage\",\"orientation\":\"h\",\"showlegend\":true,\"textposition\":\"auto\",\"x\":[4],\"xaxis\":\"x\",\"y\":[\"breakage\"],\"yaxis\":\"y\",\"type\":\"bar\"},{\"alignmentgroup\":\"True\",\"hovertemplate\":\"Word=%{y}<br>Count=%{x}<extra></extra>\",\"legendgroup\":\"box\",\"marker\":{\"color\":\"#FFA15A\",\"pattern\":{\"shape\":\"\"}},\"name\":\"box\",\"offsetgroup\":\"box\",\"orientation\":\"h\",\"showlegend\":true,\"textposition\":\"auto\",\"x\":[4],\"xaxis\":\"x\",\"y\":[\"box\"],\"yaxis\":\"y\",\"type\":\"bar\"},{\"alignmentgroup\":\"True\",\"hovertemplate\":\"Word=%{y}<br>Count=%{x}<extra></extra>\",\"legendgroup\":\"lead\",\"marker\":{\"color\":\"#19d3f3\",\"pattern\":{\"shape\":\"\"}},\"name\":\"lead\",\"offsetgroup\":\"lead\",\"orientation\":\"h\",\"showlegend\":true,\"textposition\":\"auto\",\"x\":[4],\"xaxis\":\"x\",\"y\":[\"lead\"],\"yaxis\":\"y\",\"type\":\"bar\"},{\"alignmentgroup\":\"True\",\"hovertemplate\":\"Word=%{y}<br>Count=%{x}<extra></extra>\",\"legendgroup\":\"line\",\"marker\":{\"color\":\"#FF6692\",\"pattern\":{\"shape\":\"\"}},\"name\":\"line\",\"offsetgroup\":\"line\",\"orientation\":\"h\",\"showlegend\":true,\"textposition\":\"auto\",\"x\":[4],\"xaxis\":\"x\",\"y\":[\"line\"],\"yaxis\":\"y\",\"type\":\"bar\"},{\"alignmentgroup\":\"True\",\"hovertemplate\":\"Word=%{y}<br>Count=%{x}<extra></extra>\",\"legendgroup\":\"leak\",\"marker\":{\"color\":\"#B6E880\",\"pattern\":{\"shape\":\"\"}},\"name\":\"leak\",\"offsetgroup\":\"leak\",\"orientation\":\"h\",\"showlegend\":true,\"textposition\":\"auto\",\"x\":[4],\"xaxis\":\"x\",\"y\":[\"leak\"],\"yaxis\":\"y\",\"type\":\"bar\"},{\"alignmentgroup\":\"True\",\"hovertemplate\":\"Word=%{y}<br>Count=%{x}<extra></extra>\",\"legendgroup\":\"labeled\",\"marker\":{\"color\":\"#FF97FF\",\"pattern\":{\"shape\":\"\"}},\"name\":\"labeled\",\"offsetgroup\":\"labeled\",\"orientation\":\"h\",\"showlegend\":true,\"textposition\":\"auto\",\"x\":[4],\"xaxis\":\"x\",\"y\":[\"labeled\"],\"yaxis\":\"y\",\"type\":\"bar\"},{\"alignmentgroup\":\"True\",\"hovertemplate\":\"Word=%{y}<br>Count=%{x}<extra></extra>\",\"legendgroup\":\"defects\",\"marker\":{\"color\":\"#FECB52\",\"pattern\":{\"shape\":\"\"}},\"name\":\"defects\",\"offsetgroup\":\"defects\",\"orientation\":\"h\",\"showlegend\":true,\"textposition\":\"auto\",\"x\":[4],\"xaxis\":\"x\",\"y\":[\"defects\"],\"yaxis\":\"y\",\"type\":\"bar\"}],                        {\"template\":{\"data\":{\"bar\":[{\"error_x\":{\"color\":\"#2a3f5f\"},\"error_y\":{\"color\":\"#2a3f5f\"},\"marker\":{\"line\":{\"color\":\"#E5ECF6\",\"width\":0.5},\"pattern\":{\"fillmode\":\"overlay\",\"size\":10,\"solidity\":0.2}},\"type\":\"bar\"}],\"barpolar\":[{\"marker\":{\"line\":{\"color\":\"#E5ECF6\",\"width\":0.5},\"pattern\":{\"fillmode\":\"overlay\",\"size\":10,\"solidity\":0.2}},\"type\":\"barpolar\"}],\"carpet\":[{\"aaxis\":{\"endlinecolor\":\"#2a3f5f\",\"gridcolor\":\"white\",\"linecolor\":\"white\",\"minorgridcolor\":\"white\",\"startlinecolor\":\"#2a3f5f\"},\"baxis\":{\"endlinecolor\":\"#2a3f5f\",\"gridcolor\":\"white\",\"linecolor\":\"white\",\"minorgridcolor\":\"white\",\"startlinecolor\":\"#2a3f5f\"},\"type\":\"carpet\"}],\"choropleth\":[{\"colorbar\":{\"outlinewidth\":0,\"ticks\":\"\"},\"type\":\"choropleth\"}],\"contour\":[{\"colorbar\":{\"outlinewidth\":0,\"ticks\":\"\"},\"colorscale\":[[0.0,\"#0d0887\"],[0.1111111111111111,\"#46039f\"],[0.2222222222222222,\"#7201a8\"],[0.3333333333333333,\"#9c179e\"],[0.4444444444444444,\"#bd3786\"],[0.5555555555555556,\"#d8576b\"],[0.6666666666666666,\"#ed7953\"],[0.7777777777777778,\"#fb9f3a\"],[0.8888888888888888,\"#fdca26\"],[1.0,\"#f0f921\"]],\"type\":\"contour\"}],\"contourcarpet\":[{\"colorbar\":{\"outlinewidth\":0,\"ticks\":\"\"},\"type\":\"contourcarpet\"}],\"heatmap\":[{\"colorbar\":{\"outlinewidth\":0,\"ticks\":\"\"},\"colorscale\":[[0.0,\"#0d0887\"],[0.1111111111111111,\"#46039f\"],[0.2222222222222222,\"#7201a8\"],[0.3333333333333333,\"#9c179e\"],[0.4444444444444444,\"#bd3786\"],[0.5555555555555556,\"#d8576b\"],[0.6666666666666666,\"#ed7953\"],[0.7777777777777778,\"#fb9f3a\"],[0.8888888888888888,\"#fdca26\"],[1.0,\"#f0f921\"]],\"type\":\"heatmap\"}],\"heatmapgl\":[{\"colorbar\":{\"outlinewidth\":0,\"ticks\":\"\"},\"colorscale\":[[0.0,\"#0d0887\"],[0.1111111111111111,\"#46039f\"],[0.2222222222222222,\"#7201a8\"],[0.3333333333333333,\"#9c179e\"],[0.4444444444444444,\"#bd3786\"],[0.5555555555555556,\"#d8576b\"],[0.6666666666666666,\"#ed7953\"],[0.7777777777777778,\"#fb9f3a\"],[0.8888888888888888,\"#fdca26\"],[1.0,\"#f0f921\"]],\"type\":\"heatmapgl\"}],\"histogram\":[{\"marker\":{\"pattern\":{\"fillmode\":\"overlay\",\"size\":10,\"solidity\":0.2}},\"type\":\"histogram\"}],\"histogram2d\":[{\"colorbar\":{\"outlinewidth\":0,\"ticks\":\"\"},\"colorscale\":[[0.0,\"#0d0887\"],[0.1111111111111111,\"#46039f\"],[0.2222222222222222,\"#7201a8\"],[0.3333333333333333,\"#9c179e\"],[0.4444444444444444,\"#bd3786\"],[0.5555555555555556,\"#d8576b\"],[0.6666666666666666,\"#ed7953\"],[0.7777777777777778,\"#fb9f3a\"],[0.8888888888888888,\"#fdca26\"],[1.0,\"#f0f921\"]],\"type\":\"histogram2d\"}],\"histogram2dcontour\":[{\"colorbar\":{\"outlinewidth\":0,\"ticks\":\"\"},\"colorscale\":[[0.0,\"#0d0887\"],[0.1111111111111111,\"#46039f\"],[0.2222222222222222,\"#7201a8\"],[0.3333333333333333,\"#9c179e\"],[0.4444444444444444,\"#bd3786\"],[0.5555555555555556,\"#d8576b\"],[0.6666666666666666,\"#ed7953\"],[0.7777777777777778,\"#fb9f3a\"],[0.8888888888888888,\"#fdca26\"],[1.0,\"#f0f921\"]],\"type\":\"histogram2dcontour\"}],\"mesh3d\":[{\"colorbar\":{\"outlinewidth\":0,\"ticks\":\"\"},\"type\":\"mesh3d\"}],\"parcoords\":[{\"line\":{\"colorbar\":{\"outlinewidth\":0,\"ticks\":\"\"}},\"type\":\"parcoords\"}],\"pie\":[{\"automargin\":true,\"type\":\"pie\"}],\"scatter\":[{\"marker\":{\"colorbar\":{\"outlinewidth\":0,\"ticks\":\"\"}},\"type\":\"scatter\"}],\"scatter3d\":[{\"line\":{\"colorbar\":{\"outlinewidth\":0,\"ticks\":\"\"}},\"marker\":{\"colorbar\":{\"outlinewidth\":0,\"ticks\":\"\"}},\"type\":\"scatter3d\"}],\"scattercarpet\":[{\"marker\":{\"colorbar\":{\"outlinewidth\":0,\"ticks\":\"\"}},\"type\":\"scattercarpet\"}],\"scattergeo\":[{\"marker\":{\"colorbar\":{\"outlinewidth\":0,\"ticks\":\"\"}},\"type\":\"scattergeo\"}],\"scattergl\":[{\"marker\":{\"colorbar\":{\"outlinewidth\":0,\"ticks\":\"\"}},\"type\":\"scattergl\"}],\"scattermapbox\":[{\"marker\":{\"colorbar\":{\"outlinewidth\":0,\"ticks\":\"\"}},\"type\":\"scattermapbox\"}],\"scatterpolar\":[{\"marker\":{\"colorbar\":{\"outlinewidth\":0,\"ticks\":\"\"}},\"type\":\"scatterpolar\"}],\"scatterpolargl\":[{\"marker\":{\"colorbar\":{\"outlinewidth\":0,\"ticks\":\"\"}},\"type\":\"scatterpolargl\"}],\"scatterternary\":[{\"marker\":{\"colorbar\":{\"outlinewidth\":0,\"ticks\":\"\"}},\"type\":\"scatterternary\"}],\"surface\":[{\"colorbar\":{\"outlinewidth\":0,\"ticks\":\"\"},\"colorscale\":[[0.0,\"#0d0887\"],[0.1111111111111111,\"#46039f\"],[0.2222222222222222,\"#7201a8\"],[0.3333333333333333,\"#9c179e\"],[0.4444444444444444,\"#bd3786\"],[0.5555555555555556,\"#d8576b\"],[0.6666666666666666,\"#ed7953\"],[0.7777777777777778,\"#fb9f3a\"],[0.8888888888888888,\"#fdca26\"],[1.0,\"#f0f921\"]],\"type\":\"surface\"}],\"table\":[{\"cells\":{\"fill\":{\"color\":\"#EBF0F8\"},\"line\":{\"color\":\"white\"}},\"header\":{\"fill\":{\"color\":\"#C8D4E3\"},\"line\":{\"color\":\"white\"}},\"type\":\"table\"}]},\"layout\":{\"annotationdefaults\":{\"arrowcolor\":\"#2a3f5f\",\"arrowhead\":0,\"arrowwidth\":1},\"autotypenumbers\":\"strict\",\"coloraxis\":{\"colorbar\":{\"outlinewidth\":0,\"ticks\":\"\"}},\"colorscale\":{\"diverging\":[[0,\"#8e0152\"],[0.1,\"#c51b7d\"],[0.2,\"#de77ae\"],[0.3,\"#f1b6da\"],[0.4,\"#fde0ef\"],[0.5,\"#f7f7f7\"],[0.6,\"#e6f5d0\"],[0.7,\"#b8e186\"],[0.8,\"#7fbc41\"],[0.9,\"#4d9221\"],[1,\"#276419\"]],\"sequential\":[[0.0,\"#0d0887\"],[0.1111111111111111,\"#46039f\"],[0.2222222222222222,\"#7201a8\"],[0.3333333333333333,\"#9c179e\"],[0.4444444444444444,\"#bd3786\"],[0.5555555555555556,\"#d8576b\"],[0.6666666666666666,\"#ed7953\"],[0.7777777777777778,\"#fb9f3a\"],[0.8888888888888888,\"#fdca26\"],[1.0,\"#f0f921\"]],\"sequentialminus\":[[0.0,\"#0d0887\"],[0.1111111111111111,\"#46039f\"],[0.2222222222222222,\"#7201a8\"],[0.3333333333333333,\"#9c179e\"],[0.4444444444444444,\"#bd3786\"],[0.5555555555555556,\"#d8576b\"],[0.6666666666666666,\"#ed7953\"],[0.7777777777777778,\"#fb9f3a\"],[0.8888888888888888,\"#fdca26\"],[1.0,\"#f0f921\"]]},\"colorway\":[\"#636efa\",\"#EF553B\",\"#00cc96\",\"#ab63fa\",\"#FFA15A\",\"#19d3f3\",\"#FF6692\",\"#B6E880\",\"#FF97FF\",\"#FECB52\"],\"font\":{\"color\":\"#2a3f5f\"},\"geo\":{\"bgcolor\":\"white\",\"lakecolor\":\"white\",\"landcolor\":\"#E5ECF6\",\"showlakes\":true,\"showland\":true,\"subunitcolor\":\"white\"},\"hoverlabel\":{\"align\":\"left\"},\"hovermode\":\"closest\",\"mapbox\":{\"style\":\"light\"},\"paper_bgcolor\":\"white\",\"plot_bgcolor\":\"#E5ECF6\",\"polar\":{\"angularaxis\":{\"gridcolor\":\"white\",\"linecolor\":\"white\",\"ticks\":\"\"},\"bgcolor\":\"#E5ECF6\",\"radialaxis\":{\"gridcolor\":\"white\",\"linecolor\":\"white\",\"ticks\":\"\"}},\"scene\":{\"xaxis\":{\"backgroundcolor\":\"#E5ECF6\",\"gridcolor\":\"white\",\"gridwidth\":2,\"linecolor\":\"white\",\"showbackground\":true,\"ticks\":\"\",\"zerolinecolor\":\"white\"},\"yaxis\":{\"backgroundcolor\":\"#E5ECF6\",\"gridcolor\":\"white\",\"gridwidth\":2,\"linecolor\":\"white\",\"showbackground\":true,\"ticks\":\"\",\"zerolinecolor\":\"white\"},\"zaxis\":{\"backgroundcolor\":\"#E5ECF6\",\"gridcolor\":\"white\",\"gridwidth\":2,\"linecolor\":\"white\",\"showbackground\":true,\"ticks\":\"\",\"zerolinecolor\":\"white\"}},\"shapedefaults\":{\"line\":{\"color\":\"#2a3f5f\"}},\"ternary\":{\"aaxis\":{\"gridcolor\":\"white\",\"linecolor\":\"white\",\"ticks\":\"\"},\"baxis\":{\"gridcolor\":\"white\",\"linecolor\":\"white\",\"ticks\":\"\"},\"bgcolor\":\"#E5ECF6\",\"caxis\":{\"gridcolor\":\"white\",\"linecolor\":\"white\",\"ticks\":\"\"}},\"title\":{\"x\":0.05},\"xaxis\":{\"automargin\":true,\"gridcolor\":\"white\",\"linecolor\":\"white\",\"ticks\":\"\",\"title\":{\"standoff\":15},\"zerolinecolor\":\"white\",\"zerolinewidth\":2},\"yaxis\":{\"automargin\":true,\"gridcolor\":\"white\",\"linecolor\":\"white\",\"ticks\":\"\",\"title\":{\"standoff\":15},\"zerolinecolor\":\"white\",\"zerolinewidth\":2}}},\"xaxis\":{\"anchor\":\"y\",\"domain\":[0.0,1.0],\"title\":{\"text\":\"Count\"}},\"yaxis\":{\"anchor\":\"x\",\"domain\":[0.0,1.0],\"title\":{\"text\":\"Word\"},\"categoryorder\":\"array\",\"categoryarray\":[\"defects\",\"labeled\",\"leak\",\"line\",\"lead\",\"box\",\"breakage\",\"lot\",\"long\",\"material\",\"become\",\"testing\",\"pump\",\"rate\",\"power\",\"catheter\",\"deployment\",\"head\",\"port\",\"length\",\"systems\",\"table\",\"infusion\",\"causing\",\"firm\",\"reports\",\"resulting\",\"software\",\"will\",\"shaft\",\"seal\",\"devices\",\"results\",\"sterility\",\"suture\",\"product\",\"used\",\"cause\",\"fluid\",\"received\",\"due\",\"complaints\",\"potential\",\"use\",\"system\",\"incorrect\",\"device\",\"patient\",\"result\",\"may\"]},\"legend\":{\"title\":{\"text\":\"Word\"},\"tracegroupgap\":0},\"title\":{\"text\":\"Word Frequency\"},\"barmode\":\"relative\",\"showlegend\":false},                        {\"responsive\": true}                    ).then(function(){\n",
              "                            \n",
              "var gd = document.getElementById('ef41e4d2-ef02-424f-ab3b-a14209c021eb');\n",
              "var x = new MutationObserver(function (mutations, observer) {{\n",
              "        var display = window.getComputedStyle(gd).display;\n",
              "        if (!display || display === 'none') {{\n",
              "            console.log([gd, 'removed!']);\n",
              "            Plotly.purge(gd);\n",
              "            observer.disconnect();\n",
              "        }}\n",
              "}});\n",
              "\n",
              "// Listen for the removal of the full notebook cells\n",
              "var notebookContainer = gd.closest('#notebook-container');\n",
              "if (notebookContainer) {{\n",
              "    x.observe(notebookContainer, {childList: true});\n",
              "}}\n",
              "\n",
              "// Listen for the clearing of the current output cell\n",
              "var outputEl = gd.closest('.output');\n",
              "if (outputEl) {{\n",
              "    x.observe(outputEl, {childList: true});\n",
              "}}\n",
              "\n",
              "                        })                };                            </script>        </div>\n",
              "</body>\n",
              "</html>"
            ]
          },
          "metadata": {}
        }
      ]
    }
  ]
}