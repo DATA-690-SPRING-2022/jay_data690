{
  "nbformat": 4,
  "nbformat_minor": 0,
  "metadata": {
    "colab": {
      "name": "inclass_session_04.ipynb",
      "provenance": [],
      "authorship_tag": "ABX9TyMxahXZby5D1FCRPGbBZBHI",
      "include_colab_link": true
    },
    "kernelspec": {
      "name": "python3",
      "display_name": "Python 3"
    },
    "language_info": {
      "name": "python"
    }
  },
  "cells": [
    {
      "cell_type": "markdown",
      "metadata": {
        "id": "view-in-github",
        "colab_type": "text"
      },
      "source": [
        "<a href=\"https://colab.research.google.com/github/wcj365/jay_data690/blob/main/assignment_04/inclass_session_04.ipynb\" target=\"_parent\"><img src=\"https://colab.research.google.com/assets/colab-badge.svg\" alt=\"Open In Colab\"/></a>"
      ]
    },
    {
      "cell_type": "markdown",
      "source": [
        "# In Class Practice\n",
        "\n",
        "- Date: 02/21/22\n",
        "- Name: Jay Wang"
      ],
      "metadata": {
        "id": "u9zf5yd90YMI"
      }
    },
    {
      "cell_type": "code",
      "source": [
        "import random\n",
        "import re\n",
        "for i in range(0,10):\n",
        "    print(end=\"\\n \")\n",
        "    for j in range(0,10):\n",
        "        num=random.randint(0,9)\n",
        "        if (num % 2) == 0:\n",
        "            print(num, end=\" \")\n",
        "        else:\n",
        "            strnum = str(num)\n",
        "            strnum=strnum.replace(strnum,\"@\")\n",
        "            print(strnum, end=\" \")"
      ],
      "metadata": {
        "colab": {
          "base_uri": "https://localhost:8080/"
        },
        "id": "LJWQ_qqT0lOy",
        "outputId": "d2e90d89-29ec-4504-b480-880039651993"
      },
      "execution_count": 1,
      "outputs": [
        {
          "output_type": "stream",
          "name": "stdout",
          "text": [
            "\n",
            " 4 @ @ @ 6 2 4 4 @ 0 \n",
            " 4 @ @ 4 @ @ 8 0 @ 4 \n",
            " @ @ 2 @ @ @ 2 2 @ 4 \n",
            " @ 4 @ 0 @ @ @ 4 @ 2 \n",
            " @ @ 0 @ @ @ @ 2 8 @ \n",
            " @ @ 4 6 @ @ 2 4 @ @ \n",
            " 2 @ @ 2 @ 2 @ @ 8 8 \n",
            " @ @ 4 6 6 @ 8 @ @ 6 \n",
            " 2 @ 8 4 0 4 6 @ @ 4 \n",
            " 2 2 0 0 2 @ 2 6 8 @ "
          ]
        }
      ]
    },
    {
      "cell_type": "code",
      "source": [
        "x = \"Hello, wporld!\"\n",
        "\n",
        "print(x)"
      ],
      "metadata": {
        "colab": {
          "base_uri": "https://localhost:8080/"
        },
        "id": "7-sjvkqx06YX",
        "outputId": "47624e7c-79e9-46a6-da58-38c196844bf5"
      },
      "execution_count": 2,
      "outputs": [
        {
          "output_type": "stream",
          "name": "stdout",
          "text": [
            "Hello, wporld!\n"
          ]
        }
      ]
    },
    {
      "cell_type": "code",
      "source": [
        "x = x.replace(\"p\", \"\")\n",
        "\n",
        "print(x)"
      ],
      "metadata": {
        "colab": {
          "base_uri": "https://localhost:8080/"
        },
        "id": "Dr1Jjqrv1HDX",
        "outputId": "3095ed47-c6c8-4d94-e422-df6937a70f35"
      },
      "execution_count": 3,
      "outputs": [
        {
          "output_type": "stream",
          "name": "stdout",
          "text": [
            "Hello, world!\n"
          ]
        }
      ]
    },
    {
      "cell_type": "code",
      "source": [
        "x = x.replace(\"Hello\", \"Hi\")\n",
        "\n",
        "print(x)"
      ],
      "metadata": {
        "colab": {
          "base_uri": "https://localhost:8080/"
        },
        "id": "POmKdWIn1WRf",
        "outputId": "71afa357-4407-45f0-c6c7-0639a1208dca"
      },
      "execution_count": 5,
      "outputs": [
        {
          "output_type": "stream",
          "name": "stdout",
          "text": [
            "Hi, world!\n"
          ]
        }
      ]
    },
    {
      "cell_type": "code",
      "source": [
        "x = x.replace(\"w\", \"W\")\n",
        "\n",
        "print(x)"
      ],
      "metadata": {
        "colab": {
          "base_uri": "https://localhost:8080/"
        },
        "id": "gCrO7BWr16Pu",
        "outputId": "dad8a3a2-7cd1-40b6-a789-6a2fe60ea345"
      },
      "execution_count": 7,
      "outputs": [
        {
          "output_type": "stream",
          "name": "stdout",
          "text": [
            "Hi, World!\n"
          ]
        }
      ]
    },
    {
      "cell_type": "code",
      "source": [
        "x = x.upper()\n",
        "\n",
        "print(x)"
      ],
      "metadata": {
        "colab": {
          "base_uri": "https://localhost:8080/"
        },
        "id": "lapTZJvj2PY6",
        "outputId": "9b11bc3e-d38c-4a6a-8c7a-694f44e84b34"
      },
      "execution_count": 8,
      "outputs": [
        {
          "output_type": "stream",
          "name": "stdout",
          "text": [
            "HI, WORLD!\n"
          ]
        }
      ]
    },
    {
      "cell_type": "code",
      "source": [
        "x = x.lower()\n",
        "\n",
        "print(x)"
      ],
      "metadata": {
        "colab": {
          "base_uri": "https://localhost:8080/"
        },
        "id": "g7e7o7bl2cBF",
        "outputId": "259788bf-9fb5-45ee-f7cb-0e1ed4aca09a"
      },
      "execution_count": 9,
      "outputs": [
        {
          "output_type": "stream",
          "name": "stdout",
          "text": [
            "hi, world!\n"
          ]
        }
      ]
    },
    {
      "cell_type": "markdown",
      "source": [
        "# String functions/methods/operations\n",
        "\n",
        "- upper()\n",
        "- lower()\n",
        "- replace()\n",
        "- strip()\n",
        "- lstrip()\n",
        "- rstrip()"
      ],
      "metadata": {
        "id": "9FpOV5rb2ql_"
      }
    },
    {
      "cell_type": "code",
      "source": [
        "#  generate 100 number first\n",
        "\n",
        "numbers=[]     # This list is to hold 100 random numbers\n",
        "for i in range(100):\n",
        "    numbers.append(random.randint(0, 9))\n",
        "\n",
        "print(numbers)\n",
        "print(len(numbers))"
      ],
      "metadata": {
        "colab": {
          "base_uri": "https://localhost:8080/"
        },
        "id": "t301wQ3W2-k_",
        "outputId": "1b9a789e-1bb0-4f17-ce41-da023e908b45"
      },
      "execution_count": 13,
      "outputs": [
        {
          "output_type": "stream",
          "name": "stdout",
          "text": [
            "[0, 1, 9, 3, 2, 7, 9, 8, 8, 1, 9, 4, 3, 0, 1, 6, 1, 6, 6, 6, 4, 8, 2, 1, 4, 7, 2, 9, 1, 8, 5, 4, 9, 1, 4, 2, 6, 0, 3, 4, 6, 8, 3, 5, 3, 0, 9, 7, 4, 2, 0, 6, 6, 9, 4, 3, 6, 5, 8, 8, 6, 1, 3, 5, 0, 5, 9, 2, 5, 1, 1, 9, 9, 4, 0, 7, 3, 8, 7, 2, 1, 8, 6, 4, 6, 6, 6, 7, 4, 8, 1, 8, 9, 6, 4, 5, 5, 4, 9, 9]\n",
            "100\n"
          ]
        }
      ]
    },
    {
      "cell_type": "code",
      "source": [
        "for i in range(0,100,1):\n",
        "    print(\"index = \", i, \"member = \", numbers[i])"
      ],
      "metadata": {
        "colab": {
          "base_uri": "https://localhost:8080/"
        },
        "id": "S1ME-jRs4JD7",
        "outputId": "2bed1420-a872-41a9-8c1b-70a31c53594c"
      },
      "execution_count": 20,
      "outputs": [
        {
          "output_type": "stream",
          "name": "stdout",
          "text": [
            "index =  0 member =  0\n",
            "index =  1 member =  1\n",
            "index =  2 member =  9\n",
            "index =  3 member =  3\n",
            "index =  4 member =  2\n",
            "index =  5 member =  7\n",
            "index =  6 member =  9\n",
            "index =  7 member =  8\n",
            "index =  8 member =  8\n",
            "index =  9 member =  1\n",
            "index =  10 member =  9\n",
            "index =  11 member =  4\n",
            "index =  12 member =  3\n",
            "index =  13 member =  0\n",
            "index =  14 member =  1\n",
            "index =  15 member =  6\n",
            "index =  16 member =  1\n",
            "index =  17 member =  6\n",
            "index =  18 member =  6\n",
            "index =  19 member =  6\n",
            "index =  20 member =  4\n",
            "index =  21 member =  8\n",
            "index =  22 member =  2\n",
            "index =  23 member =  1\n",
            "index =  24 member =  4\n",
            "index =  25 member =  7\n",
            "index =  26 member =  2\n",
            "index =  27 member =  9\n",
            "index =  28 member =  1\n",
            "index =  29 member =  8\n",
            "index =  30 member =  5\n",
            "index =  31 member =  4\n",
            "index =  32 member =  9\n",
            "index =  33 member =  1\n",
            "index =  34 member =  4\n",
            "index =  35 member =  2\n",
            "index =  36 member =  6\n",
            "index =  37 member =  0\n",
            "index =  38 member =  3\n",
            "index =  39 member =  4\n",
            "index =  40 member =  6\n",
            "index =  41 member =  8\n",
            "index =  42 member =  3\n",
            "index =  43 member =  5\n",
            "index =  44 member =  3\n",
            "index =  45 member =  0\n",
            "index =  46 member =  9\n",
            "index =  47 member =  7\n",
            "index =  48 member =  4\n",
            "index =  49 member =  2\n",
            "index =  50 member =  0\n",
            "index =  51 member =  6\n",
            "index =  52 member =  6\n",
            "index =  53 member =  9\n",
            "index =  54 member =  4\n",
            "index =  55 member =  3\n",
            "index =  56 member =  6\n",
            "index =  57 member =  5\n",
            "index =  58 member =  8\n",
            "index =  59 member =  8\n",
            "index =  60 member =  6\n",
            "index =  61 member =  1\n",
            "index =  62 member =  3\n",
            "index =  63 member =  5\n",
            "index =  64 member =  0\n",
            "index =  65 member =  5\n",
            "index =  66 member =  9\n",
            "index =  67 member =  2\n",
            "index =  68 member =  5\n",
            "index =  69 member =  1\n",
            "index =  70 member =  1\n",
            "index =  71 member =  9\n",
            "index =  72 member =  9\n",
            "index =  73 member =  4\n",
            "index =  74 member =  0\n",
            "index =  75 member =  7\n",
            "index =  76 member =  3\n",
            "index =  77 member =  8\n",
            "index =  78 member =  7\n",
            "index =  79 member =  2\n",
            "index =  80 member =  1\n",
            "index =  81 member =  8\n",
            "index =  82 member =  6\n",
            "index =  83 member =  4\n",
            "index =  84 member =  6\n",
            "index =  85 member =  6\n",
            "index =  86 member =  6\n",
            "index =  87 member =  7\n",
            "index =  88 member =  4\n",
            "index =  89 member =  8\n",
            "index =  90 member =  1\n",
            "index =  91 member =  8\n",
            "index =  92 member =  9\n",
            "index =  93 member =  6\n",
            "index =  94 member =  4\n",
            "index =  95 member =  5\n",
            "index =  96 member =  5\n",
            "index =  97 member =  4\n",
            "index =  98 member =  9\n",
            "index =  99 member =  9\n"
          ]
        }
      ]
    },
    {
      "cell_type": "code",
      "source": [
        "count=0\n",
        "for i in range(10):\n",
        "    for j in range(10):\n",
        "        print(numbers[count],\" \", end =\" \")\n",
        "        count+=1\n",
        "    print(\"\\n\")\n"
      ],
      "metadata": {
        "colab": {
          "base_uri": "https://localhost:8080/"
        },
        "id": "btF23ytW3jEd",
        "outputId": "091b978e-19ce-4cdd-aae3-61fe47c08bff"
      },
      "execution_count": 14,
      "outputs": [
        {
          "output_type": "stream",
          "name": "stdout",
          "text": [
            "0   1   9   3   2   7   9   8   8   1   \n",
            "\n",
            "9   4   3   0   1   6   1   6   6   6   \n",
            "\n",
            "4   8   2   1   4   7   2   9   1   8   \n",
            "\n",
            "5   4   9   1   4   2   6   0   3   4   \n",
            "\n",
            "6   8   3   5   3   0   9   7   4   2   \n",
            "\n",
            "0   6   6   9   4   3   6   5   8   8   \n",
            "\n",
            "6   1   3   5   0   5   9   2   5   1   \n",
            "\n",
            "1   9   9   4   0   7   3   8   7   2   \n",
            "\n",
            "1   8   6   4   6   6   6   7   4   8   \n",
            "\n",
            "1   8   9   6   4   5   5   4   9   9   \n",
            "\n"
          ]
        }
      ]
    },
    {
      "cell_type": "code",
      "source": [
        "# when to initialize a variable\n",
        "\n",
        "sum=0\n",
        "for n in range (10): #repeats each row 10 times\n",
        "    for i in range(10): #repeats each integer 10 times\n",
        "       y=random.randint(0,9)\n",
        "       sum=sum+ y\n",
        "       print(y,end=\" \") #prints one integer with space at the end\n",
        "    print( \"*\",sum,end=\" \\n\")  #starts a new row after each 10 char\n",
        "    sum=0                     #resets sum to 0 before the next loop"
      ],
      "metadata": {
        "colab": {
          "base_uri": "https://localhost:8080/"
        },
        "id": "wkXLmW9w5-EQ",
        "outputId": "31fef602-c219-45ac-833b-176585327ef0"
      },
      "execution_count": 21,
      "outputs": [
        {
          "output_type": "stream",
          "name": "stdout",
          "text": [
            "8 7 1 0 0 5 7 3 4 5 * 40 \n",
            "9 1 2 2 1 5 7 5 0 0 * 32 \n",
            "9 0 6 9 2 6 3 4 8 9 * 56 \n",
            "6 8 3 2 8 7 1 0 2 2 * 39 \n",
            "1 7 4 4 3 6 6 6 5 9 * 51 \n",
            "3 0 2 9 0 3 4 8 3 1 * 33 \n",
            "9 0 9 3 9 5 7 2 8 4 * 56 \n",
            "5 6 7 1 1 3 2 6 3 3 * 37 \n",
            "5 1 3 3 0 0 7 6 8 5 * 38 \n",
            "0 3 2 8 5 9 3 1 1 8 * 40 \n"
          ]
        }
      ]
    },
    {
      "cell_type": "code",
      "source": [
        "# when to initialize a variable\n",
        "\n",
        "\n",
        "for n in range (10): #repeats each row 10 times\n",
        "    sum=0\n",
        "    for i in range(10): #repeats each integer 10 times\n",
        "       y=random.randint(0,9)\n",
        "       sum=sum+ y\n",
        "       print(y,end=\" \") #prints one integer with space at the end\n",
        "    print( \"*\",sum,end=\" \\n\")  #starts a new row after each 10 char\n"
      ],
      "metadata": {
        "id": "n_10bBFf6OIJ"
      },
      "execution_count": null,
      "outputs": []
    },
    {
      "cell_type": "code",
      "source": [
        "x = [0,0,0,0,0,0]\n",
        "\n",
        "print(x)"
      ],
      "metadata": {
        "colab": {
          "base_uri": "https://localhost:8080/"
        },
        "id": "1Piteo6S6oqq",
        "outputId": "22152a9a-5181-403a-c98f-5595e2f00734"
      },
      "execution_count": 22,
      "outputs": [
        {
          "output_type": "stream",
          "name": "stdout",
          "text": [
            "[0, 0, 0, 0, 0, 0]\n"
          ]
        }
      ]
    },
    {
      "cell_type": "code",
      "source": [
        "x = [0] * 6\n",
        "\n",
        "print(x)"
      ],
      "metadata": {
        "colab": {
          "base_uri": "https://localhost:8080/"
        },
        "id": "MndRsCil7B8s",
        "outputId": "3f51313e-563e-4338-91fe-fbfab5b698c3"
      },
      "execution_count": 23,
      "outputs": [
        {
          "output_type": "stream",
          "name": "stdout",
          "text": [
            "[0, 0, 0, 0, 0, 0]\n"
          ]
        }
      ]
    },
    {
      "cell_type": "code",
      "source": [
        "x = [0] * 100\n",
        "\n",
        "print(x)"
      ],
      "metadata": {
        "colab": {
          "base_uri": "https://localhost:8080/"
        },
        "id": "sE4f37AW7Hcp",
        "outputId": "b3039fd3-3cfb-409c-9fa3-3549252afbdc"
      },
      "execution_count": 24,
      "outputs": [
        {
          "output_type": "stream",
          "name": "stdout",
          "text": [
            "[0, 0, 0, 0, 0, 0, 0, 0, 0, 0, 0, 0, 0, 0, 0, 0, 0, 0, 0, 0, 0, 0, 0, 0, 0, 0, 0, 0, 0, 0, 0, 0, 0, 0, 0, 0, 0, 0, 0, 0, 0, 0, 0, 0, 0, 0, 0, 0, 0, 0, 0, 0, 0, 0, 0, 0, 0, 0, 0, 0, 0, 0, 0, 0, 0, 0, 0, 0, 0, 0, 0, 0, 0, 0, 0, 0, 0, 0, 0, 0, 0, 0, 0, 0, 0, 0, 0, 0, 0, 0, 0, 0, 0, 0, 0, 0, 0, 0, 0, 0]\n"
          ]
        }
      ]
    }
  ]
}