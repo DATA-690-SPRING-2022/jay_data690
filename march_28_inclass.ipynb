{
  "nbformat": 4,
  "nbformat_minor": 0,
  "metadata": {
    "colab": {
      "name": "march_28_inclass.ipynb",
      "provenance": [],
      "authorship_tag": "ABX9TyMqoEMSKvdONo4wofOwuU55",
      "include_colab_link": true
    },
    "kernelspec": {
      "name": "python3",
      "display_name": "Python 3"
    },
    "language_info": {
      "name": "python"
    }
  },
  "cells": [
    {
      "cell_type": "markdown",
      "metadata": {
        "id": "view-in-github",
        "colab_type": "text"
      },
      "source": [
        "<a href=\"https://colab.research.google.com/github/wcj365/jay_data690/blob/main/march_28_inclass.ipynb\" target=\"_parent\"><img src=\"https://colab.research.google.com/assets/colab-badge.svg\" alt=\"Open In Colab\"/></a>"
      ]
    },
    {
      "cell_type": "markdown",
      "source": [
        "DATA 606 \n",
        "4 teams: A, B, C, D\n",
        "Randomly select a team to present in class.\n"
      ],
      "metadata": {
        "id": "y9K-WQdK0soX"
      }
    },
    {
      "cell_type": "code",
      "execution_count": 1,
      "metadata": {
        "id": "FJggxg230jxw"
      },
      "outputs": [],
      "source": [
        "import random"
      ]
    },
    {
      "cell_type": "code",
      "source": [
        "# assign 0 to A, 1 to B, 2 to C, 3 to D\n",
        "\n",
        "team_list = [\"A\", \"B\", \"C\",\"D\"]\n",
        "\n",
        "print(\"Team\", team_list[random.randint(0,3)], \"is randomly selected to present\")"
      ],
      "metadata": {
        "colab": {
          "base_uri": "https://localhost:8080/"
        },
        "id": "fCmc9Y2p09iq",
        "outputId": "809e4b7f-7803-4277-ac78-69ad929df4a6"
      },
      "execution_count": 17,
      "outputs": [
        {
          "output_type": "stream",
          "name": "stdout",
          "text": [
            "Team C is randomly selected to present\n"
          ]
        }
      ]
    },
    {
      "cell_type": "code",
      "source": [
        "# assign 0 to A, 1 to B, 2 to C, 3 to D\n",
        "\n",
        "team_list = [\"A\", \"B\", \"C\",\"D\"]\n",
        "\n",
        "print(\"Team\", random.choice(team_list), \"is randomly selected to present\")"
      ],
      "metadata": {
        "colab": {
          "base_uri": "https://localhost:8080/"
        },
        "id": "Eftrno7Q3Csq",
        "outputId": "b8059355-2970-451b-95d8-061768b650a5"
      },
      "execution_count": 24,
      "outputs": [
        {
          "output_type": "stream",
          "name": "stdout",
          "text": [
            "Team D is randomly selected to present\n"
          ]
        }
      ]
    },
    {
      "cell_type": "code",
      "source": [
        "team_dict={\n",
        "    \"A\":0,\n",
        "    \"B\":0,\n",
        "    \"C\":0,\n",
        "    \"D\":0   \n",
        "}\n",
        "\n",
        "for i in range(1000000):   # range(start, stop, step) range(0, 10, 1), short cut is range(10), range(10, 45, 2)\n",
        "\n",
        "    team_dict[random.choice(list(team_dict.keys()))] += 1    # team_dict[random.choice(team_list)] = team_dict[random.choice(team_list)]  + 1\n",
        "\n",
        "print(team_dict)"
      ],
      "metadata": {
        "colab": {
          "base_uri": "https://localhost:8080/"
        },
        "id": "pBAdEhrQ2Blm",
        "outputId": "2e8b4ba2-5376-48b0-ef6d-dbb6a396968f"
      },
      "execution_count": 35,
      "outputs": [
        {
          "output_type": "stream",
          "name": "stdout",
          "text": [
            "{'A': 250291, 'B': 250671, 'C': 249549, 'D': 249489}\n"
          ]
        }
      ]
    },
    {
      "cell_type": "code",
      "source": [
        "list(team_dict.keys())"
      ],
      "metadata": {
        "colab": {
          "base_uri": "https://localhost:8080/"
        },
        "id": "SRDOGZ9T49In",
        "outputId": "fc0ea184-1d2c-4c44-fd6e-78b4ebc57ee5"
      },
      "execution_count": 33,
      "outputs": [
        {
          "output_type": "execute_result",
          "data": {
            "text/plain": [
              "['A', 'B', 'C', 'D']"
            ]
          },
          "metadata": {},
          "execution_count": 33
        }
      ]
    }
  ]
}