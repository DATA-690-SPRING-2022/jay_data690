{
  "nbformat": 4,
  "nbformat_minor": 0,
  "metadata": {
    "colab": {
      "name": "help_for_hw03.ipynb",
      "provenance": [],
      "authorship_tag": "ABX9TyP8X2o/6ENkKNlsFuLE9GYk",
      "include_colab_link": true
    },
    "kernelspec": {
      "name": "python3",
      "display_name": "Python 3"
    },
    "language_info": {
      "name": "python"
    }
  },
  "cells": [
    {
      "cell_type": "markdown",
      "metadata": {
        "id": "view-in-github",
        "colab_type": "text"
      },
      "source": [
        "<a href=\"https://colab.research.google.com/github/wcj365/jay_data690/blob/main/assignment_03/help_for_hw03.ipynb\" target=\"_parent\"><img src=\"https://colab.research.google.com/assets/colab-badge.svg\" alt=\"Open In Colab\"/></a>"
      ]
    },
    {
      "cell_type": "markdown",
      "source": [
        "# In Class Practice\n",
        "- Date: 02/14\n",
        "- Name: Jay"
      ],
      "metadata": {
        "id": "bqzVqcGG3DsJ"
      }
    },
    {
      "cell_type": "code",
      "source": [
        "import random"
      ],
      "metadata": {
        "id": "iOJxsy40zvV8"
      },
      "execution_count": 13,
      "outputs": []
    },
    {
      "cell_type": "code",
      "execution_count": 2,
      "metadata": {
        "colab": {
          "base_uri": "https://localhost:8080/"
        },
        "id": "H-8wJW6fw5RS",
        "outputId": "9f7aaee3-2d98-474f-ea94-3ecec832977e"
      },
      "outputs": [
        {
          "output_type": "stream",
          "name": "stdout",
          "text": [
            "[2, 5, 12, 'jay', 'wang']\n"
          ]
        }
      ],
      "source": [
        "x = [2,5,12, \"jay\", \"wang\"]\n",
        "\n",
        "print(x)"
      ]
    },
    {
      "cell_type": "code",
      "source": [
        "for a in x:\n",
        "    print(a, end=\" * \")"
      ],
      "metadata": {
        "colab": {
          "base_uri": "https://localhost:8080/"
        },
        "id": "YTRgVJ6PxUxH",
        "outputId": "0d6e27c3-5b39-4402-a00b-4c5cc16c522f"
      },
      "execution_count": 12,
      "outputs": [
        {
          "output_type": "stream",
          "name": "stdout",
          "text": [
            "2 * 5 * 12 * jay * wang * "
          ]
        }
      ]
    },
    {
      "cell_type": "code",
      "source": [
        "5 in x"
      ],
      "metadata": {
        "colab": {
          "base_uri": "https://localhost:8080/"
        },
        "id": "Xia-YSV3xi2t",
        "outputId": "0d7acc39-e869-4829-b846-f39b71192ae3"
      },
      "execution_count": 4,
      "outputs": [
        {
          "output_type": "execute_result",
          "data": {
            "text/plain": [
              "True"
            ]
          },
          "metadata": {},
          "execution_count": 4
        }
      ]
    },
    {
      "cell_type": "code",
      "source": [
        "if 5 in x:\n",
        "    print(\"5 is a member of a list x.\")\n",
        "else:\n",
        "    print(\"5 is not a memeber\")"
      ],
      "metadata": {
        "colab": {
          "base_uri": "https://localhost:8080/"
        },
        "id": "YF5kWR6sx6d2",
        "outputId": "64a6d589-997c-404b-c6bf-562cfd802229"
      },
      "execution_count": 5,
      "outputs": [
        {
          "output_type": "stream",
          "name": "stdout",
          "text": [
            "5 is a member of a list x.\n"
          ]
        }
      ]
    },
    {
      "cell_type": "code",
      "source": [
        "y = [5, 1, 5, 6, 2, 7, 8, 6, 4, 2]\n",
        "\n",
        "print(y)"
      ],
      "metadata": {
        "colab": {
          "base_uri": "https://localhost:8080/"
        },
        "id": "aVvl4PoIy2xA",
        "outputId": "a5d7f739-cb99-4a8e-8edf-75b611e9ae72"
      },
      "execution_count": 7,
      "outputs": [
        {
          "output_type": "stream",
          "name": "stdout",
          "text": [
            "[5, 1, 5, 6, 2, 7, 8, 6, 4, 2]\n"
          ]
        }
      ]
    },
    {
      "cell_type": "code",
      "source": [
        "for b in y:\n",
        "    print(b)"
      ],
      "metadata": {
        "colab": {
          "base_uri": "https://localhost:8080/"
        },
        "id": "BDO0ceAGzA1y",
        "outputId": "b443899a-070b-4a12-96ab-d24a214dd03f"
      },
      "execution_count": 9,
      "outputs": [
        {
          "output_type": "stream",
          "name": "stdout",
          "text": [
            "5\n",
            "1\n",
            "5\n",
            "6\n",
            "2\n",
            "7\n",
            "8\n",
            "6\n",
            "4\n",
            "2\n"
          ]
        }
      ]
    },
    {
      "cell_type": "code",
      "source": [
        "for b in y:\n",
        "    print(b, end=\" \")"
      ],
      "metadata": {
        "colab": {
          "base_uri": "https://localhost:8080/"
        },
        "id": "tEr0rLx6zOF6",
        "outputId": "7a301c55-ef3d-468b-f7e3-578ac53a73f2"
      },
      "execution_count": 10,
      "outputs": [
        {
          "output_type": "stream",
          "name": "stdout",
          "text": [
            "5 1 5 6 2 7 8 6 4 2 "
          ]
        }
      ]
    },
    {
      "cell_type": "code",
      "source": [
        "random.randint(0, 9)"
      ],
      "metadata": {
        "colab": {
          "base_uri": "https://localhost:8080/"
        },
        "id": "FTGuj_5Pz3bR",
        "outputId": "e514ab3c-f721-43f4-d565-6a9aee4cfe26"
      },
      "execution_count": 27,
      "outputs": [
        {
          "output_type": "execute_result",
          "data": {
            "text/plain": [
              "7"
            ]
          },
          "metadata": {},
          "execution_count": 27
        }
      ]
    },
    {
      "cell_type": "code",
      "source": [
        "for i in range(10):\n",
        "    print(random.randint(0,9), end=\" \")"
      ],
      "metadata": {
        "colab": {
          "base_uri": "https://localhost:8080/"
        },
        "id": "BxLLNlUA0g1E",
        "outputId": "6cf62f30-f21f-4164-a4db-de5853e79216"
      },
      "execution_count": 33,
      "outputs": [
        {
          "output_type": "stream",
          "name": "stdout",
          "text": [
            "4 0 3 5 9 8 9 3 6 0 "
          ]
        }
      ]
    },
    {
      "cell_type": "code",
      "source": [
        "for j in range(10):\n",
        "    for i in range(10):\n",
        "        print(random.randint(0,9), end=\" \")\n",
        "#    print(\"\\n\", end=\"\")\n",
        "    print(\"\")"
      ],
      "metadata": {
        "colab": {
          "base_uri": "https://localhost:8080/"
        },
        "id": "eXU2okRP1vk-",
        "outputId": "cb4ee686-0d80-418f-c631-d5457a44d331"
      },
      "execution_count": 37,
      "outputs": [
        {
          "output_type": "stream",
          "name": "stdout",
          "text": [
            "5 3 2 4 9 6 2 0 7 0 \n",
            "3 6 0 2 6 5 5 3 7 5 \n",
            "2 5 5 3 9 2 3 4 0 2 \n",
            "3 9 6 2 9 9 7 2 3 2 \n",
            "1 8 1 7 9 2 2 1 8 9 \n",
            "5 3 8 1 3 1 4 8 5 0 \n",
            "8 0 8 6 4 0 1 4 8 6 \n",
            "1 6 8 3 1 1 0 3 9 2 \n",
            "7 5 6 5 5 8 3 4 0 5 \n",
            "3 9 2 9 1 1 7 5 6 4 \n"
          ]
        }
      ]
    }
  ]
}